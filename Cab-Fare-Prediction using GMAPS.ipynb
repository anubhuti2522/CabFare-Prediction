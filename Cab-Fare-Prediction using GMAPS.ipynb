{
 "cells": [
  {
   "cell_type": "markdown",
   "metadata": {},
   "source": [
    "# 1. Load Data"
   ]
  },
  {
   "cell_type": "code",
   "execution_count": 1,
   "metadata": {},
   "outputs": [
    {
     "data": {
      "text/html": [
       "<div>\n",
       "<style scoped>\n",
       "    .dataframe tbody tr th:only-of-type {\n",
       "        vertical-align: middle;\n",
       "    }\n",
       "\n",
       "    .dataframe tbody tr th {\n",
       "        vertical-align: top;\n",
       "    }\n",
       "\n",
       "    .dataframe thead th {\n",
       "        text-align: right;\n",
       "    }\n",
       "</style>\n",
       "<table border=\"1\" class=\"dataframe\">\n",
       "  <thead>\n",
       "    <tr style=\"text-align: right;\">\n",
       "      <th></th>\n",
       "      <th>fare_amount</th>\n",
       "      <th>pickup_datetime</th>\n",
       "      <th>pickup_longitude</th>\n",
       "      <th>pickup_latitude</th>\n",
       "      <th>dropoff_longitude</th>\n",
       "      <th>dropoff_latitude</th>\n",
       "      <th>passenger_count</th>\n",
       "    </tr>\n",
       "  </thead>\n",
       "  <tbody>\n",
       "    <tr>\n",
       "      <th>0</th>\n",
       "      <td>4.5</td>\n",
       "      <td>2009-06-15 17:26:21 UTC</td>\n",
       "      <td>-73.844311</td>\n",
       "      <td>40.721319</td>\n",
       "      <td>-73.841610</td>\n",
       "      <td>40.712278</td>\n",
       "      <td>1.0</td>\n",
       "    </tr>\n",
       "    <tr>\n",
       "      <th>1</th>\n",
       "      <td>16.9</td>\n",
       "      <td>2010-01-05 16:52:16 UTC</td>\n",
       "      <td>-74.016048</td>\n",
       "      <td>40.711303</td>\n",
       "      <td>-73.979268</td>\n",
       "      <td>40.782004</td>\n",
       "      <td>1.0</td>\n",
       "    </tr>\n",
       "    <tr>\n",
       "      <th>2</th>\n",
       "      <td>5.7</td>\n",
       "      <td>2011-08-18 00:35:00 UTC</td>\n",
       "      <td>-73.982738</td>\n",
       "      <td>40.761270</td>\n",
       "      <td>-73.991242</td>\n",
       "      <td>40.750562</td>\n",
       "      <td>2.0</td>\n",
       "    </tr>\n",
       "    <tr>\n",
       "      <th>3</th>\n",
       "      <td>7.7</td>\n",
       "      <td>2012-04-21 04:30:42 UTC</td>\n",
       "      <td>-73.987130</td>\n",
       "      <td>40.733143</td>\n",
       "      <td>-73.991567</td>\n",
       "      <td>40.758092</td>\n",
       "      <td>1.0</td>\n",
       "    </tr>\n",
       "    <tr>\n",
       "      <th>4</th>\n",
       "      <td>5.3</td>\n",
       "      <td>2010-03-09 07:51:00 UTC</td>\n",
       "      <td>-73.968095</td>\n",
       "      <td>40.768008</td>\n",
       "      <td>-73.956655</td>\n",
       "      <td>40.783762</td>\n",
       "      <td>1.0</td>\n",
       "    </tr>\n",
       "  </tbody>\n",
       "</table>\n",
       "</div>"
      ],
      "text/plain": [
       "  fare_amount          pickup_datetime  pickup_longitude  pickup_latitude  \\\n",
       "0         4.5  2009-06-15 17:26:21 UTC        -73.844311        40.721319   \n",
       "1        16.9  2010-01-05 16:52:16 UTC        -74.016048        40.711303   \n",
       "2         5.7  2011-08-18 00:35:00 UTC        -73.982738        40.761270   \n",
       "3         7.7  2012-04-21 04:30:42 UTC        -73.987130        40.733143   \n",
       "4         5.3  2010-03-09 07:51:00 UTC        -73.968095        40.768008   \n",
       "\n",
       "   dropoff_longitude  dropoff_latitude  passenger_count  \n",
       "0         -73.841610         40.712278              1.0  \n",
       "1         -73.979268         40.782004              1.0  \n",
       "2         -73.991242         40.750562              2.0  \n",
       "3         -73.991567         40.758092              1.0  \n",
       "4         -73.956655         40.783762              1.0  "
      ]
     },
     "execution_count": 1,
     "metadata": {},
     "output_type": "execute_result"
    }
   ],
   "source": [
    "#Load libraries\n",
    "import numpy as np\n",
    "import pandas as pd\n",
    "import seaborn as sns\n",
    "import matplotlib.pyplot as plt\n",
    "import datetime as dt\n",
    "import os                 #get access to input files\n",
    "\n",
    "from scipy import stats\n",
    "from scipy.stats import norm,skew\n",
    "\n",
    "from collections import Counter\n",
    "\n",
    "import warnings\n",
    "warnings.filterwarnings('ignore')\n",
    "\n",
    "\n",
    "#read train file\n",
    "train_data = pd.read_csv('train_cab.csv',encoding='utf-8')\n",
    "train_data.head()"
   ]
  },
  {
   "cell_type": "code",
   "execution_count": 2,
   "metadata": {},
   "outputs": [
    {
     "name": "stdout",
     "output_type": "stream",
     "text": [
      "<class 'pandas.core.frame.DataFrame'>\n",
      "RangeIndex: 16067 entries, 0 to 16066\n",
      "Data columns (total 7 columns):\n",
      " #   Column             Non-Null Count  Dtype  \n",
      "---  ------             --------------  -----  \n",
      " 0   fare_amount        16043 non-null  object \n",
      " 1   pickup_datetime    16067 non-null  object \n",
      " 2   pickup_longitude   16067 non-null  float64\n",
      " 3   pickup_latitude    16067 non-null  float64\n",
      " 4   dropoff_longitude  16067 non-null  float64\n",
      " 5   dropoff_latitude   16067 non-null  float64\n",
      " 6   passenger_count    16012 non-null  float64\n",
      "dtypes: float64(5), object(2)\n",
      "memory usage: 878.8+ KB\n"
     ]
    },
    {
     "data": {
      "text/plain": [
       "(None, (16067, 7))"
      ]
     },
     "execution_count": 2,
     "metadata": {},
     "output_type": "execute_result"
    }
   ],
   "source": [
    "train_data.info(),train_data.shape"
   ]
  },
  {
   "cell_type": "code",
   "execution_count": 3,
   "metadata": {},
   "outputs": [
    {
     "name": "stdout",
     "output_type": "stream",
     "text": [
      "<class 'pandas.core.frame.DataFrame'>\n",
      "RangeIndex: 9914 entries, 0 to 9913\n",
      "Data columns (total 6 columns):\n",
      " #   Column             Non-Null Count  Dtype  \n",
      "---  ------             --------------  -----  \n",
      " 0   pickup_datetime    9914 non-null   object \n",
      " 1   pickup_longitude   9914 non-null   float64\n",
      " 2   pickup_latitude    9914 non-null   float64\n",
      " 3   dropoff_longitude  9914 non-null   float64\n",
      " 4   dropoff_latitude   9914 non-null   float64\n",
      " 5   passenger_count    9914 non-null   int64  \n",
      "dtypes: float64(4), int64(1), object(1)\n",
      "memory usage: 464.8+ KB\n"
     ]
    },
    {
     "data": {
      "text/plain": [
       "(None, (9914, 6))"
      ]
     },
     "execution_count": 3,
     "metadata": {},
     "output_type": "execute_result"
    }
   ],
   "source": [
    "#read test file\n",
    "test_data = pd.read_csv('test.csv',encoding='utf-8')\n",
    "test_data.info(),test_data.shape"
   ]
  },
  {
   "cell_type": "code",
   "execution_count": 4,
   "metadata": {},
   "outputs": [
    {
     "name": "stdout",
     "output_type": "stream",
     "text": [
      "pickup_datetime\t2009-06-15 17:26:21 UTC\n",
      "pickup_longitude\t-73.844311\n",
      "pickup_latitude\t40.721319\n",
      "dropoff_longitude\t-73.84161\n",
      "dropoff_latitude\t40.712278000000005\n",
      "passenger_count\t1.0\n"
     ]
    },
    {
     "data": {
      "text/html": [
       "<div>\n",
       "<style scoped>\n",
       "    .dataframe tbody tr th:only-of-type {\n",
       "        vertical-align: middle;\n",
       "    }\n",
       "\n",
       "    .dataframe tbody tr th {\n",
       "        vertical-align: top;\n",
       "    }\n",
       "\n",
       "    .dataframe thead th {\n",
       "        text-align: right;\n",
       "    }\n",
       "</style>\n",
       "<table border=\"1\" class=\"dataframe\">\n",
       "  <thead>\n",
       "    <tr style=\"text-align: right;\">\n",
       "      <th></th>\n",
       "      <th>pickup_longitude</th>\n",
       "      <th>pickup_latitude</th>\n",
       "      <th>dropoff_longitude</th>\n",
       "      <th>dropoff_latitude</th>\n",
       "      <th>passenger_count</th>\n",
       "    </tr>\n",
       "  </thead>\n",
       "  <tbody>\n",
       "    <tr>\n",
       "      <th>count</th>\n",
       "      <td>16067.000000</td>\n",
       "      <td>16067.000000</td>\n",
       "      <td>16067.000000</td>\n",
       "      <td>16067.000000</td>\n",
       "      <td>16012.000000</td>\n",
       "    </tr>\n",
       "    <tr>\n",
       "      <th>mean</th>\n",
       "      <td>-72.462787</td>\n",
       "      <td>39.914725</td>\n",
       "      <td>-72.462328</td>\n",
       "      <td>39.897906</td>\n",
       "      <td>2.625070</td>\n",
       "    </tr>\n",
       "    <tr>\n",
       "      <th>std</th>\n",
       "      <td>10.578384</td>\n",
       "      <td>6.826587</td>\n",
       "      <td>10.575062</td>\n",
       "      <td>6.187087</td>\n",
       "      <td>60.844122</td>\n",
       "    </tr>\n",
       "    <tr>\n",
       "      <th>min</th>\n",
       "      <td>-74.438233</td>\n",
       "      <td>-74.006893</td>\n",
       "      <td>-74.429332</td>\n",
       "      <td>-74.006377</td>\n",
       "      <td>0.000000</td>\n",
       "    </tr>\n",
       "    <tr>\n",
       "      <th>25%</th>\n",
       "      <td>-73.992156</td>\n",
       "      <td>40.734927</td>\n",
       "      <td>-73.991182</td>\n",
       "      <td>40.734651</td>\n",
       "      <td>1.000000</td>\n",
       "    </tr>\n",
       "    <tr>\n",
       "      <th>50%</th>\n",
       "      <td>-73.981698</td>\n",
       "      <td>40.752603</td>\n",
       "      <td>-73.980172</td>\n",
       "      <td>40.753567</td>\n",
       "      <td>1.000000</td>\n",
       "    </tr>\n",
       "    <tr>\n",
       "      <th>75%</th>\n",
       "      <td>-73.966838</td>\n",
       "      <td>40.767381</td>\n",
       "      <td>-73.963643</td>\n",
       "      <td>40.768013</td>\n",
       "      <td>2.000000</td>\n",
       "    </tr>\n",
       "    <tr>\n",
       "      <th>max</th>\n",
       "      <td>40.766125</td>\n",
       "      <td>401.083332</td>\n",
       "      <td>40.802437</td>\n",
       "      <td>41.366138</td>\n",
       "      <td>5345.000000</td>\n",
       "    </tr>\n",
       "  </tbody>\n",
       "</table>\n",
       "</div>"
      ],
      "text/plain": [
       "       pickup_longitude  pickup_latitude  dropoff_longitude  dropoff_latitude  \\\n",
       "count      16067.000000     16067.000000       16067.000000      16067.000000   \n",
       "mean         -72.462787        39.914725         -72.462328         39.897906   \n",
       "std           10.578384         6.826587          10.575062          6.187087   \n",
       "min          -74.438233       -74.006893         -74.429332        -74.006377   \n",
       "25%          -73.992156        40.734927         -73.991182         40.734651   \n",
       "50%          -73.981698        40.752603         -73.980172         40.753567   \n",
       "75%          -73.966838        40.767381         -73.963643         40.768013   \n",
       "max           40.766125       401.083332          40.802437         41.366138   \n",
       "\n",
       "       passenger_count  \n",
       "count     16012.000000  \n",
       "mean          2.625070  \n",
       "std          60.844122  \n",
       "min           0.000000  \n",
       "25%           1.000000  \n",
       "50%           1.000000  \n",
       "75%           2.000000  \n",
       "max        5345.000000  "
      ]
     },
     "execution_count": 4,
     "metadata": {},
     "output_type": "execute_result"
    }
   ],
   "source": [
    "#select target = y and inputs = x\n",
    "y = train_data['fare_amount']\n",
    "\n",
    "#feature =['pickup_datetime','pickup_longitude','pickup_latitude','dropoff_longitude','dropoff_latitude','passenger_count']\n",
    "x = train_data.drop(columns =['fare_amount']).copy()\n",
    "cols = list(x.columns)\n",
    "\n",
    "for i in range(len(cols)):\n",
    "    print(f\"{cols[i]}\\t{x[cols[i]][0]}\")\n",
    "\n",
    "train_data.describe()"
   ]
  },
  {
   "cell_type": "markdown",
   "metadata": {},
   "source": [
    "# 2. Preprocessing"
   ]
  },
  {
   "cell_type": "code",
   "execution_count": 5,
   "metadata": {},
   "outputs": [
    {
     "data": {
      "text/plain": [
       "(fare_amount                  object\n",
       " pickup_datetime      datetime64[ns]\n",
       " pickup_longitude            float64\n",
       " pickup_latitude             float64\n",
       " dropoff_longitude           float64\n",
       " dropoff_latitude            float64\n",
       " passenger_count             float64\n",
       " dtype: object,\n",
       " pickup_datetime      datetime64[ns]\n",
       " pickup_longitude            float64\n",
       " pickup_latitude             float64\n",
       " dropoff_longitude           float64\n",
       " dropoff_latitude            float64\n",
       " passenger_count               int64\n",
       " dtype: object)"
      ]
     },
     "execution_count": 5,
     "metadata": {},
     "output_type": "execute_result"
    }
   ],
   "source": [
    "#as DataTime is in object dataType, we are converting it into date-time format\n",
    "\n",
    "data_file = [train_data,test_data]\n",
    "for i in data_file:\n",
    "    i['pickup_datetime'] = pd.to_datetime(i['pickup_datetime'], format='%Y-%m-%d %H:%M:%S UTC',errors='coerce')\n",
    "\n",
    "train_data.dtypes, test_data.dtypes"
   ]
  },
  {
   "cell_type": "code",
   "execution_count": 6,
   "metadata": {
    "scrolled": true
   },
   "outputs": [
    {
     "name": "stdout",
     "output_type": "stream",
     "text": [
      "<class 'pandas.core.frame.DataFrame'>\n",
      "RangeIndex: 16067 entries, 0 to 16066\n",
      "Data columns (total 7 columns):\n",
      " #   Column             Non-Null Count  Dtype         \n",
      "---  ------             --------------  -----         \n",
      " 0   fare_amount        16041 non-null  float32       \n",
      " 1   pickup_datetime    16066 non-null  datetime64[ns]\n",
      " 2   pickup_longitude   16067 non-null  float64       \n",
      " 3   pickup_latitude    16067 non-null  float64       \n",
      " 4   dropoff_longitude  16067 non-null  float64       \n",
      " 5   dropoff_latitude   16067 non-null  float64       \n",
      " 6   passenger_count    16067 non-null  int32         \n",
      "dtypes: datetime64[ns](1), float32(1), float64(4), int32(1)\n",
      "memory usage: 753.3 KB\n"
     ]
    }
   ],
   "source": [
    "#for plots convert object type to float or int\n",
    "train_data['fare_amount'] = pd.to_numeric(train_data['fare_amount'], errors='coerce', downcast='float')\n",
    "train_data['fare_amount'] = train_data['fare_amount'].replace({0:np.nan})\n",
    "#for passenger count, first fill the NA with 0 as .astype cannot convert infinite values or NA into integer type\n",
    "\n",
    "train_data['passenger_count'] = train_data['passenger_count'].fillna(0)\n",
    "train_data['passenger_count'] = train_data['passenger_count'].astype(int)\n",
    "    \n",
    "train_data.info()  "
   ]
  },
  {
   "cell_type": "markdown",
   "metadata": {},
   "source": [
    "<h3>Missing Values"
   ]
  },
  {
   "cell_type": "code",
   "execution_count": 7,
   "metadata": {},
   "outputs": [
    {
     "name": "stdout",
     "output_type": "stream",
     "text": [
      "<class 'pandas.core.frame.DataFrame'>\n",
      "RangeIndex: 16067 entries, 0 to 16066\n",
      "Data columns (total 7 columns):\n",
      " #   Column             Non-Null Count  Dtype         \n",
      "---  ------             --------------  -----         \n",
      " 0   fare_amount        16067 non-null  float32       \n",
      " 1   pickup_datetime    16066 non-null  datetime64[ns]\n",
      " 2   pickup_longitude   16067 non-null  float64       \n",
      " 3   pickup_latitude    16067 non-null  float64       \n",
      " 4   dropoff_longitude  16067 non-null  float64       \n",
      " 5   dropoff_latitude   16067 non-null  float64       \n",
      " 6   passenger_count    16067 non-null  int32         \n",
      "dtypes: datetime64[ns](1), float32(1), float64(4), int32(1)\n",
      "memory usage: 753.3 KB\n"
     ]
    }
   ],
   "source": [
    "#to ignore warning, import warnings\n",
    "col = ['fare_amount','passenger_count']\n",
    "for i in col:\n",
    "    train_data[i].fillna((train_data[i].mean()),inplace=True)\n",
    "    \n",
    "train_data.info()"
   ]
  },
  {
   "cell_type": "code",
   "execution_count": 8,
   "metadata": {},
   "outputs": [
    {
     "name": "stdout",
     "output_type": "stream",
     "text": [
      "<class 'pandas.core.frame.DataFrame'>\n",
      "RangeIndex: 9914 entries, 0 to 9913\n",
      "Data columns (total 6 columns):\n",
      " #   Column             Non-Null Count  Dtype         \n",
      "---  ------             --------------  -----         \n",
      " 0   pickup_datetime    9914 non-null   datetime64[ns]\n",
      " 1   pickup_longitude   9914 non-null   float64       \n",
      " 2   pickup_latitude    9914 non-null   float64       \n",
      " 3   dropoff_longitude  9914 non-null   float64       \n",
      " 4   dropoff_latitude   9914 non-null   float64       \n",
      " 5   passenger_count    9914 non-null   int64         \n",
      "dtypes: datetime64[ns](1), float64(4), int64(1)\n",
      "memory usage: 464.8 KB\n"
     ]
    }
   ],
   "source": [
    "test_data.info()"
   ]
  },
  {
   "cell_type": "code",
   "execution_count": 9,
   "metadata": {},
   "outputs": [
    {
     "name": "stdout",
     "output_type": "stream",
     "text": [
      "<class 'pandas.core.frame.DataFrame'>\n",
      "Int64Index: 16066 entries, 0 to 16066\n",
      "Data columns (total 7 columns):\n",
      " #   Column             Non-Null Count  Dtype         \n",
      "---  ------             --------------  -----         \n",
      " 0   fare_amount        16066 non-null  float32       \n",
      " 1   pickup_datetime    16066 non-null  datetime64[ns]\n",
      " 2   pickup_longitude   16066 non-null  float64       \n",
      " 3   pickup_latitude    16066 non-null  float64       \n",
      " 4   dropoff_longitude  16066 non-null  float64       \n",
      " 5   dropoff_latitude   16066 non-null  float64       \n",
      " 6   passenger_count    16066 non-null  int32         \n",
      "dtypes: datetime64[ns](1), float32(1), float64(4), int32(1)\n",
      "memory usage: 878.6 KB\n"
     ]
    }
   ],
   "source": [
    "#to fill missing value in train_data['pickup_datetime']\n",
    "#train_data = train_data.set_index(['pickup_datetime']).resample('D').mean()\n",
    "#train_data['pickup_datetime'].resample('D').mean()\n",
    "train_data = train_data.dropna(subset= ['pickup_datetime'])\n",
    "train_data.info()"
   ]
  },
  {
   "cell_type": "code",
   "execution_count": 10,
   "metadata": {},
   "outputs": [],
   "source": [
    "#mean is the best method, impute missing values with mean for pickup & dropoff latitude & longitude \n",
    "\n",
    "for i in data_file:\n",
    "    i['pickup_longitude'] = i['pickup_longitude'].fillna(i['pickup_longitude'].mean())\n",
    "    i['pickup_latitude'] = i['pickup_latitude'].fillna(i['pickup_latitude'].mean())\n",
    "    i['dropoff_longitude'] = i['dropoff_longitude'].fillna(i['dropoff_longitude'].mean())\n",
    "    i['dropoff_latitude'] = i['dropoff_latitude'].fillna(i['dropoff_latitude'].mean())"
   ]
  },
  {
   "cell_type": "markdown",
   "metadata": {},
   "source": [
    "# Outlier Analysis"
   ]
  },
  {
   "cell_type": "code",
   "execution_count": 11,
   "metadata": {},
   "outputs": [],
   "source": [
    "#save the data at another place with different name\n",
    "df = train_data.copy()\n",
    "train_data = train_data.copy()"
   ]
  },
  {
   "cell_type": "markdown",
   "metadata": {},
   "source": [
    "<h3>Max number of passengers sit in a cab is 6"
   ]
  },
  {
   "cell_type": "code",
   "execution_count": 12,
   "metadata": {},
   "outputs": [
    {
     "name": "stdout",
     "output_type": "stream",
     "text": [
      "passenger count: 4=329\n",
      "passenger count: 5=1045\n",
      "passenger count: 6=302\n",
      "passenger count: 7=0\n",
      "passenger count: 8=0\n",
      "passenger count: 9=0\n",
      "passenger count: 10=0\n"
     ]
    }
   ],
   "source": [
    "#to check passenger_count variable so that it can be converted into a categorical variable\n",
    "#Fetching records having passenger count greater than 4\n",
    "\n",
    "for i in range(4,11):\n",
    "    print('passenger count: '+str(i)+'={}'.format(sum(train_data['passenger_count']==i)))"
   ]
  },
  {
   "cell_type": "code",
   "execution_count": 13,
   "metadata": {},
   "outputs": [
    {
     "data": {
      "text/html": [
       "<div>\n",
       "<style scoped>\n",
       "    .dataframe tbody tr th:only-of-type {\n",
       "        vertical-align: middle;\n",
       "    }\n",
       "\n",
       "    .dataframe tbody tr th {\n",
       "        vertical-align: top;\n",
       "    }\n",
       "\n",
       "    .dataframe thead th {\n",
       "        text-align: right;\n",
       "    }\n",
       "</style>\n",
       "<table border=\"1\" class=\"dataframe\">\n",
       "  <thead>\n",
       "    <tr style=\"text-align: right;\">\n",
       "      <th></th>\n",
       "      <th>fare_amount</th>\n",
       "      <th>pickup_datetime</th>\n",
       "      <th>pickup_longitude</th>\n",
       "      <th>pickup_latitude</th>\n",
       "      <th>dropoff_longitude</th>\n",
       "      <th>dropoff_latitude</th>\n",
       "      <th>passenger_count</th>\n",
       "    </tr>\n",
       "  </thead>\n",
       "  <tbody>\n",
       "    <tr>\n",
       "      <th>233</th>\n",
       "      <td>8.500000</td>\n",
       "      <td>2011-07-24 01:14:35</td>\n",
       "      <td>0.000000</td>\n",
       "      <td>0.000000</td>\n",
       "      <td>0.000000</td>\n",
       "      <td>0.000000</td>\n",
       "      <td>236</td>\n",
       "    </tr>\n",
       "    <tr>\n",
       "      <th>263</th>\n",
       "      <td>4.900000</td>\n",
       "      <td>2010-07-12 09:44:33</td>\n",
       "      <td>-73.983249</td>\n",
       "      <td>40.734655</td>\n",
       "      <td>-73.991278</td>\n",
       "      <td>40.738918</td>\n",
       "      <td>456</td>\n",
       "    </tr>\n",
       "    <tr>\n",
       "      <th>293</th>\n",
       "      <td>6.100000</td>\n",
       "      <td>2011-01-18 23:48:00</td>\n",
       "      <td>-74.006642</td>\n",
       "      <td>40.738927</td>\n",
       "      <td>-74.010828</td>\n",
       "      <td>40.717907</td>\n",
       "      <td>5334</td>\n",
       "    </tr>\n",
       "    <tr>\n",
       "      <th>356</th>\n",
       "      <td>8.500000</td>\n",
       "      <td>2013-06-18 10:27:05</td>\n",
       "      <td>-73.992108</td>\n",
       "      <td>40.764203</td>\n",
       "      <td>-73.973000</td>\n",
       "      <td>40.762695</td>\n",
       "      <td>535</td>\n",
       "    </tr>\n",
       "    <tr>\n",
       "      <th>386</th>\n",
       "      <td>8.100000</td>\n",
       "      <td>2009-08-21 19:35:05</td>\n",
       "      <td>-73.960853</td>\n",
       "      <td>40.761557</td>\n",
       "      <td>-73.976335</td>\n",
       "      <td>40.748361</td>\n",
       "      <td>354</td>\n",
       "    </tr>\n",
       "    <tr>\n",
       "      <th>413</th>\n",
       "      <td>15.015864</td>\n",
       "      <td>2013-09-12 11:32:00</td>\n",
       "      <td>-73.982060</td>\n",
       "      <td>40.772705</td>\n",
       "      <td>-73.956213</td>\n",
       "      <td>40.771777</td>\n",
       "      <td>55</td>\n",
       "    </tr>\n",
       "    <tr>\n",
       "      <th>971</th>\n",
       "      <td>10.100000</td>\n",
       "      <td>2010-11-21 01:41:00</td>\n",
       "      <td>-74.004500</td>\n",
       "      <td>40.742143</td>\n",
       "      <td>-73.994330</td>\n",
       "      <td>40.720412</td>\n",
       "      <td>554</td>\n",
       "    </tr>\n",
       "    <tr>\n",
       "      <th>1007</th>\n",
       "      <td>3.700000</td>\n",
       "      <td>2010-12-14 14:46:00</td>\n",
       "      <td>-73.969157</td>\n",
       "      <td>40.759000</td>\n",
       "      <td>-73.968763</td>\n",
       "      <td>40.764617</td>\n",
       "      <td>53</td>\n",
       "    </tr>\n",
       "    <tr>\n",
       "      <th>1043</th>\n",
       "      <td>5.700000</td>\n",
       "      <td>2012-08-22 22:08:29</td>\n",
       "      <td>-73.973573</td>\n",
       "      <td>40.760184</td>\n",
       "      <td>-73.953564</td>\n",
       "      <td>40.767392</td>\n",
       "      <td>35</td>\n",
       "    </tr>\n",
       "    <tr>\n",
       "      <th>1107</th>\n",
       "      <td>4.900000</td>\n",
       "      <td>2009-08-08 21:50:50</td>\n",
       "      <td>-73.988977</td>\n",
       "      <td>40.721068</td>\n",
       "      <td>-73.982368</td>\n",
       "      <td>40.732064</td>\n",
       "      <td>345</td>\n",
       "    </tr>\n",
       "    <tr>\n",
       "      <th>1146</th>\n",
       "      <td>8.000000</td>\n",
       "      <td>2014-03-27 08:05:01</td>\n",
       "      <td>-73.991098</td>\n",
       "      <td>40.770655</td>\n",
       "      <td>-73.976933</td>\n",
       "      <td>40.790070</td>\n",
       "      <td>5345</td>\n",
       "    </tr>\n",
       "    <tr>\n",
       "      <th>1200</th>\n",
       "      <td>9.700000</td>\n",
       "      <td>2011-08-16 09:29:00</td>\n",
       "      <td>-73.980487</td>\n",
       "      <td>40.741610</td>\n",
       "      <td>-73.980617</td>\n",
       "      <td>40.746868</td>\n",
       "      <td>536</td>\n",
       "    </tr>\n",
       "    <tr>\n",
       "      <th>1242</th>\n",
       "      <td>5.300000</td>\n",
       "      <td>2011-10-16 00:22:00</td>\n",
       "      <td>-73.981095</td>\n",
       "      <td>40.738160</td>\n",
       "      <td>-73.990587</td>\n",
       "      <td>40.740105</td>\n",
       "      <td>43</td>\n",
       "    </tr>\n",
       "    <tr>\n",
       "      <th>8406</th>\n",
       "      <td>6.900000</td>\n",
       "      <td>2010-08-25 11:41:00</td>\n",
       "      <td>0.000000</td>\n",
       "      <td>0.000000</td>\n",
       "      <td>0.000000</td>\n",
       "      <td>0.000000</td>\n",
       "      <td>53</td>\n",
       "    </tr>\n",
       "    <tr>\n",
       "      <th>8445</th>\n",
       "      <td>5.700000</td>\n",
       "      <td>2009-03-28 22:00:00</td>\n",
       "      <td>-73.982413</td>\n",
       "      <td>40.751320</td>\n",
       "      <td>-73.971292</td>\n",
       "      <td>40.748502</td>\n",
       "      <td>58</td>\n",
       "    </tr>\n",
       "    <tr>\n",
       "      <th>8506</th>\n",
       "      <td>11.300000</td>\n",
       "      <td>2010-05-23 20:06:37</td>\n",
       "      <td>-73.985424</td>\n",
       "      <td>40.738468</td>\n",
       "      <td>-74.001698</td>\n",
       "      <td>40.707758</td>\n",
       "      <td>537</td>\n",
       "    </tr>\n",
       "    <tr>\n",
       "      <th>8571</th>\n",
       "      <td>12.500000</td>\n",
       "      <td>2011-12-03 03:21:00</td>\n",
       "      <td>-73.993718</td>\n",
       "      <td>40.762039</td>\n",
       "      <td>-73.977527</td>\n",
       "      <td>40.734024</td>\n",
       "      <td>87</td>\n",
       "    </tr>\n",
       "    <tr>\n",
       "      <th>8631</th>\n",
       "      <td>20.000000</td>\n",
       "      <td>2012-12-10 22:28:00</td>\n",
       "      <td>-73.955445</td>\n",
       "      <td>40.670232</td>\n",
       "      <td>-74.004795</td>\n",
       "      <td>40.731477</td>\n",
       "      <td>43</td>\n",
       "    </tr>\n",
       "    <tr>\n",
       "      <th>8715</th>\n",
       "      <td>4.500000</td>\n",
       "      <td>2009-09-04 09:14:03</td>\n",
       "      <td>-73.977518</td>\n",
       "      <td>40.758480</td>\n",
       "      <td>-73.983252</td>\n",
       "      <td>40.749837</td>\n",
       "      <td>531</td>\n",
       "    </tr>\n",
       "    <tr>\n",
       "      <th>8985</th>\n",
       "      <td>8.500000</td>\n",
       "      <td>2015-01-14 15:10:21</td>\n",
       "      <td>-73.955444</td>\n",
       "      <td>40.787605</td>\n",
       "      <td>-73.965561</td>\n",
       "      <td>40.798691</td>\n",
       "      <td>557</td>\n",
       "    </tr>\n",
       "  </tbody>\n",
       "</table>\n",
       "</div>"
      ],
      "text/plain": [
       "      fare_amount     pickup_datetime  pickup_longitude  pickup_latitude  \\\n",
       "233      8.500000 2011-07-24 01:14:35          0.000000         0.000000   \n",
       "263      4.900000 2010-07-12 09:44:33        -73.983249        40.734655   \n",
       "293      6.100000 2011-01-18 23:48:00        -74.006642        40.738927   \n",
       "356      8.500000 2013-06-18 10:27:05        -73.992108        40.764203   \n",
       "386      8.100000 2009-08-21 19:35:05        -73.960853        40.761557   \n",
       "413     15.015864 2013-09-12 11:32:00        -73.982060        40.772705   \n",
       "971     10.100000 2010-11-21 01:41:00        -74.004500        40.742143   \n",
       "1007     3.700000 2010-12-14 14:46:00        -73.969157        40.759000   \n",
       "1043     5.700000 2012-08-22 22:08:29        -73.973573        40.760184   \n",
       "1107     4.900000 2009-08-08 21:50:50        -73.988977        40.721068   \n",
       "1146     8.000000 2014-03-27 08:05:01        -73.991098        40.770655   \n",
       "1200     9.700000 2011-08-16 09:29:00        -73.980487        40.741610   \n",
       "1242     5.300000 2011-10-16 00:22:00        -73.981095        40.738160   \n",
       "8406     6.900000 2010-08-25 11:41:00          0.000000         0.000000   \n",
       "8445     5.700000 2009-03-28 22:00:00        -73.982413        40.751320   \n",
       "8506    11.300000 2010-05-23 20:06:37        -73.985424        40.738468   \n",
       "8571    12.500000 2011-12-03 03:21:00        -73.993718        40.762039   \n",
       "8631    20.000000 2012-12-10 22:28:00        -73.955445        40.670232   \n",
       "8715     4.500000 2009-09-04 09:14:03        -73.977518        40.758480   \n",
       "8985     8.500000 2015-01-14 15:10:21        -73.955444        40.787605   \n",
       "\n",
       "      dropoff_longitude  dropoff_latitude  passenger_count  \n",
       "233            0.000000          0.000000              236  \n",
       "263          -73.991278         40.738918              456  \n",
       "293          -74.010828         40.717907             5334  \n",
       "356          -73.973000         40.762695              535  \n",
       "386          -73.976335         40.748361              354  \n",
       "413          -73.956213         40.771777               55  \n",
       "971          -73.994330         40.720412              554  \n",
       "1007         -73.968763         40.764617               53  \n",
       "1043         -73.953564         40.767392               35  \n",
       "1107         -73.982368         40.732064              345  \n",
       "1146         -73.976933         40.790070             5345  \n",
       "1200         -73.980617         40.746868              536  \n",
       "1242         -73.990587         40.740105               43  \n",
       "8406           0.000000          0.000000               53  \n",
       "8445         -73.971292         40.748502               58  \n",
       "8506         -74.001698         40.707758              537  \n",
       "8571         -73.977527         40.734024               87  \n",
       "8631         -74.004795         40.731477               43  \n",
       "8715         -73.983252         40.749837              531  \n",
       "8985         -73.965561         40.798691              557  "
      ]
     },
     "execution_count": 13,
     "metadata": {},
     "output_type": "execute_result"
    }
   ],
   "source": [
    "#find passenger_count >6\n",
    "train_data[train_data['passenger_count']>6]"
   ]
  },
  {
   "cell_type": "code",
   "execution_count": 14,
   "metadata": {},
   "outputs": [
    {
     "data": {
      "text/html": [
       "<div>\n",
       "<style scoped>\n",
       "    .dataframe tbody tr th:only-of-type {\n",
       "        vertical-align: middle;\n",
       "    }\n",
       "\n",
       "    .dataframe tbody tr th {\n",
       "        vertical-align: top;\n",
       "    }\n",
       "\n",
       "    .dataframe thead th {\n",
       "        text-align: right;\n",
       "    }\n",
       "</style>\n",
       "<table border=\"1\" class=\"dataframe\">\n",
       "  <thead>\n",
       "    <tr style=\"text-align: right;\">\n",
       "      <th></th>\n",
       "      <th>fare_amount</th>\n",
       "      <th>pickup_datetime</th>\n",
       "      <th>pickup_longitude</th>\n",
       "      <th>pickup_latitude</th>\n",
       "      <th>dropoff_longitude</th>\n",
       "      <th>dropoff_latitude</th>\n",
       "      <th>passenger_count</th>\n",
       "    </tr>\n",
       "  </thead>\n",
       "  <tbody>\n",
       "    <tr>\n",
       "      <th>31</th>\n",
       "      <td>22.540001</td>\n",
       "      <td>2015-06-21 21:46:34</td>\n",
       "      <td>-74.010483</td>\n",
       "      <td>40.717667</td>\n",
       "      <td>-73.985771</td>\n",
       "      <td>40.660366</td>\n",
       "      <td>0</td>\n",
       "    </tr>\n",
       "    <tr>\n",
       "      <th>64</th>\n",
       "      <td>7.300000</td>\n",
       "      <td>2011-11-07 10:47:40</td>\n",
       "      <td>-74.003919</td>\n",
       "      <td>40.753019</td>\n",
       "      <td>-73.992368</td>\n",
       "      <td>40.735362</td>\n",
       "      <td>0</td>\n",
       "    </tr>\n",
       "    <tr>\n",
       "      <th>82</th>\n",
       "      <td>8.500000</td>\n",
       "      <td>2013-06-14 08:27:43</td>\n",
       "      <td>-73.953710</td>\n",
       "      <td>40.790813</td>\n",
       "      <td>-73.957015</td>\n",
       "      <td>40.777676</td>\n",
       "      <td>0</td>\n",
       "    </tr>\n",
       "    <tr>\n",
       "      <th>97</th>\n",
       "      <td>9.000000</td>\n",
       "      <td>2014-12-07 12:26:00</td>\n",
       "      <td>-73.984977</td>\n",
       "      <td>40.752122</td>\n",
       "      <td>-74.000925</td>\n",
       "      <td>40.757982</td>\n",
       "      <td>0</td>\n",
       "    </tr>\n",
       "    <tr>\n",
       "      <th>112</th>\n",
       "      <td>35.000000</td>\n",
       "      <td>2012-12-06 18:05:00</td>\n",
       "      <td>-73.953310</td>\n",
       "      <td>40.787772</td>\n",
       "      <td>-73.944352</td>\n",
       "      <td>40.719772</td>\n",
       "      <td>0</td>\n",
       "    </tr>\n",
       "    <tr>\n",
       "      <th>...</th>\n",
       "      <td>...</td>\n",
       "      <td>...</td>\n",
       "      <td>...</td>\n",
       "      <td>...</td>\n",
       "      <td>...</td>\n",
       "      <td>...</td>\n",
       "      <td>...</td>\n",
       "    </tr>\n",
       "    <tr>\n",
       "      <th>15286</th>\n",
       "      <td>4.900000</td>\n",
       "      <td>2012-03-20 22:23:34</td>\n",
       "      <td>-73.971808</td>\n",
       "      <td>40.760143</td>\n",
       "      <td>-73.962027</td>\n",
       "      <td>40.767677</td>\n",
       "      <td>0</td>\n",
       "    </tr>\n",
       "    <tr>\n",
       "      <th>15514</th>\n",
       "      <td>6.500000</td>\n",
       "      <td>2012-02-12 02:03:50</td>\n",
       "      <td>-73.999342</td>\n",
       "      <td>40.718872</td>\n",
       "      <td>-73.984112</td>\n",
       "      <td>40.725242</td>\n",
       "      <td>0</td>\n",
       "    </tr>\n",
       "    <tr>\n",
       "      <th>15554</th>\n",
       "      <td>6.500000</td>\n",
       "      <td>2011-08-03 08:31:19</td>\n",
       "      <td>-73.991700</td>\n",
       "      <td>40.750100</td>\n",
       "      <td>-73.981000</td>\n",
       "      <td>40.750900</td>\n",
       "      <td>0</td>\n",
       "    </tr>\n",
       "    <tr>\n",
       "      <th>15919</th>\n",
       "      <td>16.500000</td>\n",
       "      <td>2011-10-17 08:58:54</td>\n",
       "      <td>0.000000</td>\n",
       "      <td>0.000000</td>\n",
       "      <td>-73.999700</td>\n",
       "      <td>40.734500</td>\n",
       "      <td>0</td>\n",
       "    </tr>\n",
       "    <tr>\n",
       "      <th>16066</th>\n",
       "      <td>8.500000</td>\n",
       "      <td>2011-12-14 06:24:33</td>\n",
       "      <td>-74.002111</td>\n",
       "      <td>40.729755</td>\n",
       "      <td>-73.983877</td>\n",
       "      <td>40.761975</td>\n",
       "      <td>0</td>\n",
       "    </tr>\n",
       "  </tbody>\n",
       "</table>\n",
       "<p>113 rows × 7 columns</p>\n",
       "</div>"
      ],
      "text/plain": [
       "       fare_amount     pickup_datetime  pickup_longitude  pickup_latitude  \\\n",
       "31       22.540001 2015-06-21 21:46:34        -74.010483        40.717667   \n",
       "64        7.300000 2011-11-07 10:47:40        -74.003919        40.753019   \n",
       "82        8.500000 2013-06-14 08:27:43        -73.953710        40.790813   \n",
       "97        9.000000 2014-12-07 12:26:00        -73.984977        40.752122   \n",
       "112      35.000000 2012-12-06 18:05:00        -73.953310        40.787772   \n",
       "...            ...                 ...               ...              ...   \n",
       "15286     4.900000 2012-03-20 22:23:34        -73.971808        40.760143   \n",
       "15514     6.500000 2012-02-12 02:03:50        -73.999342        40.718872   \n",
       "15554     6.500000 2011-08-03 08:31:19        -73.991700        40.750100   \n",
       "15919    16.500000 2011-10-17 08:58:54          0.000000         0.000000   \n",
       "16066     8.500000 2011-12-14 06:24:33        -74.002111        40.729755   \n",
       "\n",
       "       dropoff_longitude  dropoff_latitude  passenger_count  \n",
       "31            -73.985771         40.660366                0  \n",
       "64            -73.992368         40.735362                0  \n",
       "82            -73.957015         40.777676                0  \n",
       "97            -74.000925         40.757982                0  \n",
       "112           -73.944352         40.719772                0  \n",
       "...                  ...               ...              ...  \n",
       "15286         -73.962027         40.767677                0  \n",
       "15514         -73.984112         40.725242                0  \n",
       "15554         -73.981000         40.750900                0  \n",
       "15919         -73.999700         40.734500                0  \n",
       "16066         -73.983877         40.761975                0  \n",
       "\n",
       "[113 rows x 7 columns]"
      ]
     },
     "execution_count": 14,
     "metadata": {},
     "output_type": "execute_result"
    }
   ],
   "source": [
    "#find passenger_count <1\n",
    "train_data[train_data['passenger_count']<1]"
   ]
  },
  {
   "cell_type": "code",
   "execution_count": 15,
   "metadata": {},
   "outputs": [],
   "source": [
    "#drop passenger count < 1 and passenger count > 6\n",
    "data_file = [train_data,test_data]\n",
    "for i in data_file:\n",
    "    i.drop(i[i['passenger_count']>6].index,axis=0,inplace=True)\n",
    "    i.drop(i[i['passenger_count']<1].index,axis=0,inplace=True)"
   ]
  },
  {
   "cell_type": "markdown",
   "metadata": {},
   "source": [
    "<h3>Fare amount is not negative or zero"
   ]
  },
  {
   "cell_type": "code",
   "execution_count": 16,
   "metadata": {},
   "outputs": [
    {
     "data": {
      "text/html": [
       "<div>\n",
       "<style scoped>\n",
       "    .dataframe tbody tr th:only-of-type {\n",
       "        vertical-align: middle;\n",
       "    }\n",
       "\n",
       "    .dataframe tbody tr th {\n",
       "        vertical-align: top;\n",
       "    }\n",
       "\n",
       "    .dataframe thead th {\n",
       "        text-align: right;\n",
       "    }\n",
       "</style>\n",
       "<table border=\"1\" class=\"dataframe\">\n",
       "  <thead>\n",
       "    <tr style=\"text-align: right;\">\n",
       "      <th></th>\n",
       "      <th>fare_amount</th>\n",
       "      <th>pickup_datetime</th>\n",
       "      <th>pickup_longitude</th>\n",
       "      <th>pickup_latitude</th>\n",
       "      <th>dropoff_longitude</th>\n",
       "      <th>dropoff_latitude</th>\n",
       "      <th>passenger_count</th>\n",
       "    </tr>\n",
       "  </thead>\n",
       "  <tbody>\n",
       "    <tr>\n",
       "      <th>2039</th>\n",
       "      <td>-2.90</td>\n",
       "      <td>2010-03-09 23:37:10</td>\n",
       "      <td>-73.789450</td>\n",
       "      <td>40.643498</td>\n",
       "      <td>-73.788665</td>\n",
       "      <td>40.641952</td>\n",
       "      <td>1</td>\n",
       "    </tr>\n",
       "    <tr>\n",
       "      <th>2486</th>\n",
       "      <td>-2.50</td>\n",
       "      <td>2015-03-22 05:14:27</td>\n",
       "      <td>-74.000031</td>\n",
       "      <td>40.720631</td>\n",
       "      <td>-73.999809</td>\n",
       "      <td>40.720539</td>\n",
       "      <td>1</td>\n",
       "    </tr>\n",
       "    <tr>\n",
       "      <th>2780</th>\n",
       "      <td>0.01</td>\n",
       "      <td>2015-05-01 15:38:41</td>\n",
       "      <td>-73.939041</td>\n",
       "      <td>40.713963</td>\n",
       "      <td>-73.941673</td>\n",
       "      <td>40.713997</td>\n",
       "      <td>1</td>\n",
       "    </tr>\n",
       "    <tr>\n",
       "      <th>13032</th>\n",
       "      <td>-3.00</td>\n",
       "      <td>2013-08-30 08:57:10</td>\n",
       "      <td>-73.995062</td>\n",
       "      <td>40.740755</td>\n",
       "      <td>-73.995885</td>\n",
       "      <td>40.741357</td>\n",
       "      <td>4</td>\n",
       "    </tr>\n",
       "  </tbody>\n",
       "</table>\n",
       "</div>"
      ],
      "text/plain": [
       "       fare_amount     pickup_datetime  pickup_longitude  pickup_latitude  \\\n",
       "2039         -2.90 2010-03-09 23:37:10        -73.789450        40.643498   \n",
       "2486         -2.50 2015-03-22 05:14:27        -74.000031        40.720631   \n",
       "2780          0.01 2015-05-01 15:38:41        -73.939041        40.713963   \n",
       "13032        -3.00 2013-08-30 08:57:10        -73.995062        40.740755   \n",
       "\n",
       "       dropoff_longitude  dropoff_latitude  passenger_count  \n",
       "2039          -73.788665         40.641952                1  \n",
       "2486          -73.999809         40.720539                1  \n",
       "2780          -73.941673         40.713997                1  \n",
       "13032         -73.995885         40.741357                4  "
      ]
     },
     "execution_count": 16,
     "metadata": {},
     "output_type": "execute_result"
    }
   ],
   "source": [
    "#for the fare amount with negative values or less than 1\n",
    "train_data[train_data['fare_amount']<1]"
   ]
  },
  {
   "cell_type": "code",
   "execution_count": 17,
   "metadata": {},
   "outputs": [],
   "source": [
    "#remove the values below 0\n",
    "train_data.drop(train_data[train_data['fare_amount']<1].index,axis=0,inplace=True)"
   ]
  },
  {
   "cell_type": "code",
   "execution_count": 18,
   "metadata": {},
   "outputs": [
    {
     "data": {
      "text/plain": [
       "1015     54343.00\n",
       "1072      4343.00\n",
       "607        453.00\n",
       "980        434.00\n",
       "1335       180.00\n",
       "           ...   \n",
       "9621         2.50\n",
       "13488        2.50\n",
       "7728         2.50\n",
       "14304        2.50\n",
       "1427         1.14\n",
       "Name: fare_amount, Length: 15929, dtype: float32"
      ]
     },
     "execution_count": 18,
     "metadata": {},
     "output_type": "execute_result"
    }
   ],
   "source": [
    "train_data['fare_amount'].sort_values(ascending=False)"
   ]
  },
  {
   "cell_type": "code",
   "execution_count": 19,
   "metadata": {},
   "outputs": [],
   "source": [
    "# consider the fare_amount>453 as outlier and drop it\n",
    "train_data.drop(train_data[train_data['fare_amount']>453].index,axis=0,inplace=True)\n"
   ]
  },
  {
   "cell_type": "code",
   "execution_count": 20,
   "metadata": {},
   "outputs": [
    {
     "data": {
      "text/html": [
       "<div>\n",
       "<style scoped>\n",
       "    .dataframe tbody tr th:only-of-type {\n",
       "        vertical-align: middle;\n",
       "    }\n",
       "\n",
       "    .dataframe tbody tr th {\n",
       "        vertical-align: top;\n",
       "    }\n",
       "\n",
       "    .dataframe thead th {\n",
       "        text-align: right;\n",
       "    }\n",
       "</style>\n",
       "<table border=\"1\" class=\"dataframe\">\n",
       "  <thead>\n",
       "    <tr style=\"text-align: right;\">\n",
       "      <th></th>\n",
       "      <th>0</th>\n",
       "    </tr>\n",
       "  </thead>\n",
       "  <tbody>\n",
       "    <tr>\n",
       "      <th>fare_amount</th>\n",
       "      <td>0</td>\n",
       "    </tr>\n",
       "    <tr>\n",
       "      <th>pickup_datetime</th>\n",
       "      <td>0</td>\n",
       "    </tr>\n",
       "    <tr>\n",
       "      <th>pickup_longitude</th>\n",
       "      <td>0</td>\n",
       "    </tr>\n",
       "    <tr>\n",
       "      <th>pickup_latitude</th>\n",
       "      <td>0</td>\n",
       "    </tr>\n",
       "    <tr>\n",
       "      <th>dropoff_longitude</th>\n",
       "      <td>0</td>\n",
       "    </tr>\n",
       "    <tr>\n",
       "      <th>dropoff_latitude</th>\n",
       "      <td>0</td>\n",
       "    </tr>\n",
       "    <tr>\n",
       "      <th>passenger_count</th>\n",
       "      <td>0</td>\n",
       "    </tr>\n",
       "  </tbody>\n",
       "</table>\n",
       "</div>"
      ],
      "text/plain": [
       "                   0\n",
       "fare_amount        0\n",
       "pickup_datetime    0\n",
       "pickup_longitude   0\n",
       "pickup_latitude    0\n",
       "dropoff_longitude  0\n",
       "dropoff_latitude   0\n",
       "passenger_count    0"
      ]
     },
     "execution_count": 20,
     "metadata": {},
     "output_type": "execute_result"
    }
   ],
   "source": [
    "#save numeric data names\n",
    "\n",
    "#Extract quartiles\n",
    "#q75, q25 = np.percentile(train_data['fare_amount'],[75,25])\n",
    "    \n",
    "#calculate IQR\n",
    "#iqr = q75 - q25\n",
    "    \n",
    "#Calculate inner and outer fence\n",
    "#lower = q25 -(iqr*1.5)\n",
    "#upper = q75 +(iqr*1.5)\n",
    "    \n",
    "#drop the outliers\n",
    "   \n",
    "#train_data.drop(train_data[train_data['fare_amount']<lower].index,axis=0,inplace=True)\n",
    "#train_data.drop(train_data[train_data['fare_amount']>upper].index,axis=0,inplace=True)\n",
    "\n",
    "\n",
    "    \n",
    "#calculate missing value\n",
    "missing_val = pd.DataFrame(train_data.isnull().sum())\n",
    "\n",
    "missing_val\n"
   ]
  },
  {
   "cell_type": "code",
   "execution_count": 21,
   "metadata": {},
   "outputs": [
    {
     "data": {
      "text/html": [
       "<div>\n",
       "<style scoped>\n",
       "    .dataframe tbody tr th:only-of-type {\n",
       "        vertical-align: middle;\n",
       "    }\n",
       "\n",
       "    .dataframe tbody tr th {\n",
       "        vertical-align: top;\n",
       "    }\n",
       "\n",
       "    .dataframe thead th {\n",
       "        text-align: right;\n",
       "    }\n",
       "</style>\n",
       "<table border=\"1\" class=\"dataframe\">\n",
       "  <thead>\n",
       "    <tr style=\"text-align: right;\">\n",
       "      <th></th>\n",
       "      <th>fare_amount</th>\n",
       "      <th>pickup_longitude</th>\n",
       "      <th>pickup_latitude</th>\n",
       "      <th>dropoff_longitude</th>\n",
       "      <th>dropoff_latitude</th>\n",
       "      <th>passenger_count</th>\n",
       "    </tr>\n",
       "  </thead>\n",
       "  <tbody>\n",
       "    <tr>\n",
       "      <th>count</th>\n",
       "      <td>15927.000000</td>\n",
       "      <td>15927.000000</td>\n",
       "      <td>15927.000000</td>\n",
       "      <td>15927.000000</td>\n",
       "      <td>15927.000000</td>\n",
       "      <td>15927.000000</td>\n",
       "    </tr>\n",
       "    <tr>\n",
       "      <th>mean</th>\n",
       "      <td>11.381999</td>\n",
       "      <td>-72.468059</td>\n",
       "      <td>39.917640</td>\n",
       "      <td>-72.458313</td>\n",
       "      <td>39.895544</td>\n",
       "      <td>1.649714</td>\n",
       "    </tr>\n",
       "    <tr>\n",
       "      <th>std</th>\n",
       "      <td>10.807326</td>\n",
       "      <td>10.561604</td>\n",
       "      <td>6.826850</td>\n",
       "      <td>10.589416</td>\n",
       "      <td>6.197609</td>\n",
       "      <td>1.265982</td>\n",
       "    </tr>\n",
       "    <tr>\n",
       "      <th>min</th>\n",
       "      <td>1.140000</td>\n",
       "      <td>-74.438233</td>\n",
       "      <td>-74.006893</td>\n",
       "      <td>-74.429332</td>\n",
       "      <td>-74.006377</td>\n",
       "      <td>1.000000</td>\n",
       "    </tr>\n",
       "    <tr>\n",
       "      <th>25%</th>\n",
       "      <td>6.000000</td>\n",
       "      <td>-73.992143</td>\n",
       "      <td>40.734946</td>\n",
       "      <td>-73.991182</td>\n",
       "      <td>40.734681</td>\n",
       "      <td>1.000000</td>\n",
       "    </tr>\n",
       "    <tr>\n",
       "      <th>50%</th>\n",
       "      <td>8.500000</td>\n",
       "      <td>-73.981675</td>\n",
       "      <td>40.752640</td>\n",
       "      <td>-73.980155</td>\n",
       "      <td>40.753567</td>\n",
       "      <td>1.000000</td>\n",
       "    </tr>\n",
       "    <tr>\n",
       "      <th>75%</th>\n",
       "      <td>12.500000</td>\n",
       "      <td>-73.966801</td>\n",
       "      <td>40.767406</td>\n",
       "      <td>-73.963604</td>\n",
       "      <td>40.768030</td>\n",
       "      <td>2.000000</td>\n",
       "    </tr>\n",
       "    <tr>\n",
       "      <th>max</th>\n",
       "      <td>453.000000</td>\n",
       "      <td>40.766125</td>\n",
       "      <td>401.083332</td>\n",
       "      <td>40.802437</td>\n",
       "      <td>41.366138</td>\n",
       "      <td>6.000000</td>\n",
       "    </tr>\n",
       "  </tbody>\n",
       "</table>\n",
       "</div>"
      ],
      "text/plain": [
       "        fare_amount  pickup_longitude  pickup_latitude  dropoff_longitude  \\\n",
       "count  15927.000000      15927.000000     15927.000000       15927.000000   \n",
       "mean      11.381999        -72.468059        39.917640         -72.458313   \n",
       "std       10.807326         10.561604         6.826850          10.589416   \n",
       "min        1.140000        -74.438233       -74.006893         -74.429332   \n",
       "25%        6.000000        -73.992143        40.734946         -73.991182   \n",
       "50%        8.500000        -73.981675        40.752640         -73.980155   \n",
       "75%       12.500000        -73.966801        40.767406         -73.963604   \n",
       "max      453.000000         40.766125       401.083332          40.802437   \n",
       "\n",
       "       dropoff_latitude  passenger_count  \n",
       "count      15927.000000     15927.000000  \n",
       "mean          39.895544         1.649714  \n",
       "std            6.197609         1.265982  \n",
       "min          -74.006377         1.000000  \n",
       "25%           40.734681         1.000000  \n",
       "50%           40.753567         1.000000  \n",
       "75%           40.768030         2.000000  \n",
       "max           41.366138         6.000000  "
      ]
     },
     "execution_count": 21,
     "metadata": {},
     "output_type": "execute_result"
    }
   ],
   "source": [
    "train_data.describe()"
   ]
  },
  {
   "cell_type": "markdown",
   "metadata": {},
   "source": [
    "<h3><ul>\n",
    "<li>Pickup and dropoff latitude should be (-90 to 90).   \n",
    "    <li>Pickup and dropoff longitude should be (-180 to 180)</ul>\n"
   ]
  },
  {
   "cell_type": "code",
   "execution_count": 22,
   "metadata": {},
   "outputs": [],
   "source": [
    "#data_file = [train_data,test_data]\n",
    "latitude = ['pickup_latitude','dropoff_latitude']\n",
    "longitude = ['pickup_longitude','dropoff_longitude']\n",
    "\n",
    "for i in data_file:\n",
    "    #latitude(-90 to 90)\n",
    "    for j in latitude:\n",
    "        i = i.drop(i[i[j]<-90].index,axis=0)\n",
    "        i = i.drop(i[i[j]>90].index,axis=0)\n",
    "                             \n",
    "   #Longitude(-180 to 180)\n",
    "    for k in longitude:\n",
    "        i = i.drop(i[i[k]<-180].index,axis=0)\n",
    "        i = i.drop(i[i[k]>180].index,axis=0)        "
   ]
  },
  {
   "cell_type": "code",
   "execution_count": 23,
   "metadata": {},
   "outputs": [
    {
     "data": {
      "text/html": [
       "<div>\n",
       "<style scoped>\n",
       "    .dataframe tbody tr th:only-of-type {\n",
       "        vertical-align: middle;\n",
       "    }\n",
       "\n",
       "    .dataframe tbody tr th {\n",
       "        vertical-align: top;\n",
       "    }\n",
       "\n",
       "    .dataframe thead th {\n",
       "        text-align: right;\n",
       "    }\n",
       "</style>\n",
       "<table border=\"1\" class=\"dataframe\">\n",
       "  <thead>\n",
       "    <tr style=\"text-align: right;\">\n",
       "      <th></th>\n",
       "      <th>0</th>\n",
       "    </tr>\n",
       "  </thead>\n",
       "  <tbody>\n",
       "    <tr>\n",
       "      <th>fare_amount</th>\n",
       "      <td>0</td>\n",
       "    </tr>\n",
       "    <tr>\n",
       "      <th>pickup_datetime</th>\n",
       "      <td>0</td>\n",
       "    </tr>\n",
       "    <tr>\n",
       "      <th>pickup_longitude</th>\n",
       "      <td>0</td>\n",
       "    </tr>\n",
       "    <tr>\n",
       "      <th>pickup_latitude</th>\n",
       "      <td>0</td>\n",
       "    </tr>\n",
       "    <tr>\n",
       "      <th>dropoff_longitude</th>\n",
       "      <td>0</td>\n",
       "    </tr>\n",
       "    <tr>\n",
       "      <th>dropoff_latitude</th>\n",
       "      <td>0</td>\n",
       "    </tr>\n",
       "    <tr>\n",
       "      <th>passenger_count</th>\n",
       "      <td>0</td>\n",
       "    </tr>\n",
       "  </tbody>\n",
       "</table>\n",
       "</div>"
      ],
      "text/plain": [
       "                   0\n",
       "fare_amount        0\n",
       "pickup_datetime    0\n",
       "pickup_longitude   0\n",
       "pickup_latitude    0\n",
       "dropoff_longitude  0\n",
       "dropoff_latitude   0\n",
       "passenger_count    0"
      ]
     },
     "execution_count": 23,
     "metadata": {},
     "output_type": "execute_result"
    }
   ],
   "source": [
    "#save numeric data names\n",
    "c_outliers = ['pickup_longitude','pickup_latitude','dropoff_longitude','dropoff_latitude']\n",
    "for j in c_outliers:\n",
    "    #Extract quartiles\n",
    "    q75, q25 = np.percentile(train_data[j],[75,25])\n",
    "    \n",
    "    #calculate IQR\n",
    "    iqr = q75 - q25\n",
    "    \n",
    "    #Calculate inner and outer fence\n",
    "    lower = q25 -(iqr*1.5)\n",
    "    upper = q75 +(iqr*1.5)\n",
    "    \n",
    "    #Replace with NA\n",
    "   \n",
    "    train_data.drop(train_data[train_data[j]<lower].index,axis=0,inplace=True)\n",
    "    train_data.drop(train_data[train_data[j]>upper].index,axis=0,inplace=True)\n",
    "\n",
    "\n",
    "    \n",
    "#calculate missing value\n",
    "missing_val = pd.DataFrame(train_data.isnull().sum())\n",
    "\n",
    "missing_val\n",
    "\n"
   ]
  },
  {
   "cell_type": "code",
   "execution_count": 24,
   "metadata": {},
   "outputs": [
    {
     "data": {
      "text/html": [
       "<div>\n",
       "<style scoped>\n",
       "    .dataframe tbody tr th:only-of-type {\n",
       "        vertical-align: middle;\n",
       "    }\n",
       "\n",
       "    .dataframe tbody tr th {\n",
       "        vertical-align: top;\n",
       "    }\n",
       "\n",
       "    .dataframe thead th {\n",
       "        text-align: right;\n",
       "    }\n",
       "</style>\n",
       "<table border=\"1\" class=\"dataframe\">\n",
       "  <thead>\n",
       "    <tr style=\"text-align: right;\">\n",
       "      <th></th>\n",
       "      <th>fare_amount</th>\n",
       "      <th>pickup_longitude</th>\n",
       "      <th>pickup_latitude</th>\n",
       "      <th>dropoff_longitude</th>\n",
       "      <th>dropoff_latitude</th>\n",
       "      <th>passenger_count</th>\n",
       "    </tr>\n",
       "  </thead>\n",
       "  <tbody>\n",
       "    <tr>\n",
       "      <th>count</th>\n",
       "      <td>13477.000000</td>\n",
       "      <td>13477.000000</td>\n",
       "      <td>13477.000000</td>\n",
       "      <td>13477.000000</td>\n",
       "      <td>13477.000000</td>\n",
       "      <td>13477.000000</td>\n",
       "    </tr>\n",
       "    <tr>\n",
       "      <th>mean</th>\n",
       "      <td>9.003596</td>\n",
       "      <td>-73.981820</td>\n",
       "      <td>40.752855</td>\n",
       "      <td>-73.980863</td>\n",
       "      <td>40.753242</td>\n",
       "      <td>1.649328</td>\n",
       "    </tr>\n",
       "    <tr>\n",
       "      <th>std</th>\n",
       "      <td>7.133858</td>\n",
       "      <td>0.016218</td>\n",
       "      <td>0.021349</td>\n",
       "      <td>0.016814</td>\n",
       "      <td>0.022369</td>\n",
       "      <td>1.269453</td>\n",
       "    </tr>\n",
       "    <tr>\n",
       "      <th>min</th>\n",
       "      <td>2.500000</td>\n",
       "      <td>-74.023050</td>\n",
       "      <td>40.692830</td>\n",
       "      <td>-74.023050</td>\n",
       "      <td>40.692402</td>\n",
       "      <td>1.000000</td>\n",
       "    </tr>\n",
       "    <tr>\n",
       "      <th>25%</th>\n",
       "      <td>5.700000</td>\n",
       "      <td>-73.992910</td>\n",
       "      <td>40.738353</td>\n",
       "      <td>-73.992100</td>\n",
       "      <td>40.738521</td>\n",
       "      <td>1.000000</td>\n",
       "    </tr>\n",
       "    <tr>\n",
       "      <th>50%</th>\n",
       "      <td>7.700000</td>\n",
       "      <td>-73.982675</td>\n",
       "      <td>40.753534</td>\n",
       "      <td>-73.982045</td>\n",
       "      <td>40.754489</td>\n",
       "      <td>1.000000</td>\n",
       "    </tr>\n",
       "    <tr>\n",
       "      <th>75%</th>\n",
       "      <td>10.900000</td>\n",
       "      <td>-73.971232</td>\n",
       "      <td>40.766870</td>\n",
       "      <td>-73.970464</td>\n",
       "      <td>40.767402</td>\n",
       "      <td>2.000000</td>\n",
       "    </tr>\n",
       "    <tr>\n",
       "      <th>max</th>\n",
       "      <td>453.000000</td>\n",
       "      <td>-73.929557</td>\n",
       "      <td>40.811077</td>\n",
       "      <td>-73.929520</td>\n",
       "      <td>40.812933</td>\n",
       "      <td>6.000000</td>\n",
       "    </tr>\n",
       "  </tbody>\n",
       "</table>\n",
       "</div>"
      ],
      "text/plain": [
       "        fare_amount  pickup_longitude  pickup_latitude  dropoff_longitude  \\\n",
       "count  13477.000000      13477.000000     13477.000000       13477.000000   \n",
       "mean       9.003596        -73.981820        40.752855         -73.980863   \n",
       "std        7.133858          0.016218         0.021349           0.016814   \n",
       "min        2.500000        -74.023050        40.692830         -74.023050   \n",
       "25%        5.700000        -73.992910        40.738353         -73.992100   \n",
       "50%        7.700000        -73.982675        40.753534         -73.982045   \n",
       "75%       10.900000        -73.971232        40.766870         -73.970464   \n",
       "max      453.000000        -73.929557        40.811077         -73.929520   \n",
       "\n",
       "       dropoff_latitude  passenger_count  \n",
       "count      13477.000000     13477.000000  \n",
       "mean          40.753242         1.649328  \n",
       "std            0.022369         1.269453  \n",
       "min           40.692402         1.000000  \n",
       "25%           40.738521         1.000000  \n",
       "50%           40.754489         1.000000  \n",
       "75%           40.767402         2.000000  \n",
       "max           40.812933         6.000000  "
      ]
     },
     "execution_count": 24,
     "metadata": {},
     "output_type": "execute_result"
    }
   ],
   "source": [
    "train_data.describe()"
   ]
  },
  {
   "cell_type": "markdown",
   "metadata": {},
   "source": [
    "# 3. Feature Engineering"
   ]
  },
  {
   "cell_type": "markdown",
   "metadata": {},
   "source": [
    "<h3>Spliting the datetime by adding new columns</h3>"
   ]
  },
  {
   "cell_type": "code",
   "execution_count": 25,
   "metadata": {},
   "outputs": [
    {
     "data": {
      "text/html": [
       "<div>\n",
       "<style scoped>\n",
       "    .dataframe tbody tr th:only-of-type {\n",
       "        vertical-align: middle;\n",
       "    }\n",
       "\n",
       "    .dataframe tbody tr th {\n",
       "        vertical-align: top;\n",
       "    }\n",
       "\n",
       "    .dataframe thead th {\n",
       "        text-align: right;\n",
       "    }\n",
       "</style>\n",
       "<table border=\"1\" class=\"dataframe\">\n",
       "  <thead>\n",
       "    <tr style=\"text-align: right;\">\n",
       "      <th></th>\n",
       "      <th>fare_amount</th>\n",
       "      <th>pickup_datetime</th>\n",
       "      <th>pickup_longitude</th>\n",
       "      <th>pickup_latitude</th>\n",
       "      <th>dropoff_longitude</th>\n",
       "      <th>dropoff_latitude</th>\n",
       "      <th>passenger_count</th>\n",
       "      <th>year</th>\n",
       "      <th>month</th>\n",
       "      <th>day</th>\n",
       "      <th>dayofweek</th>\n",
       "      <th>hour</th>\n",
       "      <th>minute</th>\n",
       "    </tr>\n",
       "  </thead>\n",
       "  <tbody>\n",
       "    <tr>\n",
       "      <th>1</th>\n",
       "      <td>16.9</td>\n",
       "      <td>2010-01-05 16:52:16</td>\n",
       "      <td>-74.016048</td>\n",
       "      <td>40.711303</td>\n",
       "      <td>-73.979268</td>\n",
       "      <td>40.782004</td>\n",
       "      <td>1</td>\n",
       "      <td>2010</td>\n",
       "      <td>1</td>\n",
       "      <td>5</td>\n",
       "      <td>1</td>\n",
       "      <td>16</td>\n",
       "      <td>52</td>\n",
       "    </tr>\n",
       "    <tr>\n",
       "      <th>2</th>\n",
       "      <td>5.7</td>\n",
       "      <td>2011-08-18 00:35:00</td>\n",
       "      <td>-73.982738</td>\n",
       "      <td>40.761270</td>\n",
       "      <td>-73.991242</td>\n",
       "      <td>40.750562</td>\n",
       "      <td>2</td>\n",
       "      <td>2011</td>\n",
       "      <td>8</td>\n",
       "      <td>18</td>\n",
       "      <td>3</td>\n",
       "      <td>0</td>\n",
       "      <td>35</td>\n",
       "    </tr>\n",
       "    <tr>\n",
       "      <th>3</th>\n",
       "      <td>7.7</td>\n",
       "      <td>2012-04-21 04:30:42</td>\n",
       "      <td>-73.987130</td>\n",
       "      <td>40.733143</td>\n",
       "      <td>-73.991567</td>\n",
       "      <td>40.758092</td>\n",
       "      <td>1</td>\n",
       "      <td>2012</td>\n",
       "      <td>4</td>\n",
       "      <td>21</td>\n",
       "      <td>5</td>\n",
       "      <td>4</td>\n",
       "      <td>30</td>\n",
       "    </tr>\n",
       "    <tr>\n",
       "      <th>4</th>\n",
       "      <td>5.3</td>\n",
       "      <td>2010-03-09 07:51:00</td>\n",
       "      <td>-73.968095</td>\n",
       "      <td>40.768008</td>\n",
       "      <td>-73.956655</td>\n",
       "      <td>40.783762</td>\n",
       "      <td>1</td>\n",
       "      <td>2010</td>\n",
       "      <td>3</td>\n",
       "      <td>9</td>\n",
       "      <td>1</td>\n",
       "      <td>7</td>\n",
       "      <td>51</td>\n",
       "    </tr>\n",
       "    <tr>\n",
       "      <th>5</th>\n",
       "      <td>12.1</td>\n",
       "      <td>2011-01-06 09:50:45</td>\n",
       "      <td>-74.000964</td>\n",
       "      <td>40.731630</td>\n",
       "      <td>-73.972892</td>\n",
       "      <td>40.758233</td>\n",
       "      <td>1</td>\n",
       "      <td>2011</td>\n",
       "      <td>1</td>\n",
       "      <td>6</td>\n",
       "      <td>3</td>\n",
       "      <td>9</td>\n",
       "      <td>50</td>\n",
       "    </tr>\n",
       "  </tbody>\n",
       "</table>\n",
       "</div>"
      ],
      "text/plain": [
       "   fare_amount     pickup_datetime  pickup_longitude  pickup_latitude  \\\n",
       "1         16.9 2010-01-05 16:52:16        -74.016048        40.711303   \n",
       "2          5.7 2011-08-18 00:35:00        -73.982738        40.761270   \n",
       "3          7.7 2012-04-21 04:30:42        -73.987130        40.733143   \n",
       "4          5.3 2010-03-09 07:51:00        -73.968095        40.768008   \n",
       "5         12.1 2011-01-06 09:50:45        -74.000964        40.731630   \n",
       "\n",
       "   dropoff_longitude  dropoff_latitude  passenger_count  year  month  day  \\\n",
       "1         -73.979268         40.782004                1  2010      1    5   \n",
       "2         -73.991242         40.750562                2  2011      8   18   \n",
       "3         -73.991567         40.758092                1  2012      4   21   \n",
       "4         -73.956655         40.783762                1  2010      3    9   \n",
       "5         -73.972892         40.758233                1  2011      1    6   \n",
       "\n",
       "   dayofweek  hour  minute  \n",
       "1          1    16      52  \n",
       "2          3     0      35  \n",
       "3          5     4      30  \n",
       "4          1     7      51  \n",
       "5          3     9      50  "
      ]
     },
     "execution_count": 25,
     "metadata": {},
     "output_type": "execute_result"
    }
   ],
   "source": [
    "#spliting the datetime by adding new columns \n",
    "for i in data_file:\n",
    "    i['year'] = i['pickup_datetime'].dt.year\n",
    "    i['month'] = i['pickup_datetime'].dt.month\n",
    "    i['day'] = i['pickup_datetime'].dt.day\n",
    "    i['dayofweek'] = i['pickup_datetime'].dt.dayofweek\n",
    "    i['hour'] = i['pickup_datetime'].dt.hour\n",
    "    i['minute'] = i['pickup_datetime'].dt.minute\n",
    "    \n",
    "    \n",
    "train_data.head()\n"
   ]
  },
  {
   "cell_type": "markdown",
   "metadata": {},
   "source": [
    "<h3>Calculate the distance using Haversine formula </h3>"
   ]
  },
  {
   "cell_type": "code",
   "execution_count": 26,
   "metadata": {},
   "outputs": [],
   "source": [
    "from math import radians, cos, sin, asin, sqrt\n",
    "\n",
    "#def haversine(lon1, lat1, lon2, lat2):\n",
    "\n",
    "def haversine(a):\n",
    "    lon1 = a[0]\n",
    "    lat1 = a[1]\n",
    "    lon2 = a[2]\n",
    "    lat2 = a[3]\n",
    "    \n",
    "    #calculate the great circle distance between two points on the earth \n",
    "    #convert decimal degrees into radians\n",
    "    \n",
    "    lon1, lat1, lon2, lat2 = map(radians, [lon1, lat1, lon2, lat2])\n",
    "    \n",
    "    #haversine formula\n",
    "    dlon = lon2 - lon1\n",
    "    dlat = lat2 - lat1\n",
    "    a = sin(dlat/2)**2 + cos(lat1) * cos(lat2) * sin(dlon/2)**2\n",
    "    c = 2 * asin(sqrt(a))\n",
    "    \n",
    "    #radius of earth in kilometers is 6371\n",
    "    km = 6371 * c\n",
    "    return km\n",
    "    "
   ]
  },
  {
   "cell_type": "code",
   "execution_count": 27,
   "metadata": {},
   "outputs": [],
   "source": [
    "#apply haversine fromula to calculate distance\n",
    "\n",
    "for i in data_file:\n",
    "    #i['distance'] = haversine(i['pickup_longitude'],i['pickup_latitude'],i['dropoff_longitude'],i['dropoff_latitude'])    \n",
    "    i['distance'] = i[['pickup_longitude','pickup_latitude','dropoff_longitude','dropoff_latitude']].apply(haversine,axis=1)\n",
    "    \n",
    "#train_data['distance'] = train_data[['pickup_longitude','pickup_latitude','dropoff_longitude','dropoff_latitude']].apply(haversine,axis=1)"
   ]
  },
  {
   "cell_type": "code",
   "execution_count": 28,
   "metadata": {},
   "outputs": [
    {
     "data": {
      "text/html": [
       "<div>\n",
       "<style scoped>\n",
       "    .dataframe tbody tr th:only-of-type {\n",
       "        vertical-align: middle;\n",
       "    }\n",
       "\n",
       "    .dataframe tbody tr th {\n",
       "        vertical-align: top;\n",
       "    }\n",
       "\n",
       "    .dataframe thead th {\n",
       "        text-align: right;\n",
       "    }\n",
       "</style>\n",
       "<table border=\"1\" class=\"dataframe\">\n",
       "  <thead>\n",
       "    <tr style=\"text-align: right;\">\n",
       "      <th></th>\n",
       "      <th>fare_amount</th>\n",
       "      <th>pickup_datetime</th>\n",
       "      <th>pickup_longitude</th>\n",
       "      <th>pickup_latitude</th>\n",
       "      <th>dropoff_longitude</th>\n",
       "      <th>dropoff_latitude</th>\n",
       "      <th>passenger_count</th>\n",
       "      <th>year</th>\n",
       "      <th>month</th>\n",
       "      <th>day</th>\n",
       "      <th>dayofweek</th>\n",
       "      <th>hour</th>\n",
       "      <th>minute</th>\n",
       "      <th>distance</th>\n",
       "    </tr>\n",
       "  </thead>\n",
       "  <tbody>\n",
       "    <tr>\n",
       "      <th>1</th>\n",
       "      <td>16.9</td>\n",
       "      <td>2010-01-05 16:52:16</td>\n",
       "      <td>-74.016048</td>\n",
       "      <td>40.711303</td>\n",
       "      <td>-73.979268</td>\n",
       "      <td>40.782004</td>\n",
       "      <td>1</td>\n",
       "      <td>2010</td>\n",
       "      <td>1</td>\n",
       "      <td>5</td>\n",
       "      <td>1</td>\n",
       "      <td>16</td>\n",
       "      <td>52</td>\n",
       "      <td>8.450134</td>\n",
       "    </tr>\n",
       "    <tr>\n",
       "      <th>2</th>\n",
       "      <td>5.7</td>\n",
       "      <td>2011-08-18 00:35:00</td>\n",
       "      <td>-73.982738</td>\n",
       "      <td>40.761270</td>\n",
       "      <td>-73.991242</td>\n",
       "      <td>40.750562</td>\n",
       "      <td>2</td>\n",
       "      <td>2011</td>\n",
       "      <td>8</td>\n",
       "      <td>18</td>\n",
       "      <td>3</td>\n",
       "      <td>0</td>\n",
       "      <td>35</td>\n",
       "      <td>1.389525</td>\n",
       "    </tr>\n",
       "    <tr>\n",
       "      <th>3</th>\n",
       "      <td>7.7</td>\n",
       "      <td>2012-04-21 04:30:42</td>\n",
       "      <td>-73.987130</td>\n",
       "      <td>40.733143</td>\n",
       "      <td>-73.991567</td>\n",
       "      <td>40.758092</td>\n",
       "      <td>1</td>\n",
       "      <td>2012</td>\n",
       "      <td>4</td>\n",
       "      <td>21</td>\n",
       "      <td>5</td>\n",
       "      <td>4</td>\n",
       "      <td>30</td>\n",
       "      <td>2.799270</td>\n",
       "    </tr>\n",
       "    <tr>\n",
       "      <th>4</th>\n",
       "      <td>5.3</td>\n",
       "      <td>2010-03-09 07:51:00</td>\n",
       "      <td>-73.968095</td>\n",
       "      <td>40.768008</td>\n",
       "      <td>-73.956655</td>\n",
       "      <td>40.783762</td>\n",
       "      <td>1</td>\n",
       "      <td>2010</td>\n",
       "      <td>3</td>\n",
       "      <td>9</td>\n",
       "      <td>1</td>\n",
       "      <td>7</td>\n",
       "      <td>51</td>\n",
       "      <td>1.999157</td>\n",
       "    </tr>\n",
       "    <tr>\n",
       "      <th>5</th>\n",
       "      <td>12.1</td>\n",
       "      <td>2011-01-06 09:50:45</td>\n",
       "      <td>-74.000964</td>\n",
       "      <td>40.731630</td>\n",
       "      <td>-73.972892</td>\n",
       "      <td>40.758233</td>\n",
       "      <td>1</td>\n",
       "      <td>2011</td>\n",
       "      <td>1</td>\n",
       "      <td>6</td>\n",
       "      <td>3</td>\n",
       "      <td>9</td>\n",
       "      <td>50</td>\n",
       "      <td>3.787239</td>\n",
       "    </tr>\n",
       "  </tbody>\n",
       "</table>\n",
       "</div>"
      ],
      "text/plain": [
       "   fare_amount     pickup_datetime  pickup_longitude  pickup_latitude  \\\n",
       "1         16.9 2010-01-05 16:52:16        -74.016048        40.711303   \n",
       "2          5.7 2011-08-18 00:35:00        -73.982738        40.761270   \n",
       "3          7.7 2012-04-21 04:30:42        -73.987130        40.733143   \n",
       "4          5.3 2010-03-09 07:51:00        -73.968095        40.768008   \n",
       "5         12.1 2011-01-06 09:50:45        -74.000964        40.731630   \n",
       "\n",
       "   dropoff_longitude  dropoff_latitude  passenger_count  year  month  day  \\\n",
       "1         -73.979268         40.782004                1  2010      1    5   \n",
       "2         -73.991242         40.750562                2  2011      8   18   \n",
       "3         -73.991567         40.758092                1  2012      4   21   \n",
       "4         -73.956655         40.783762                1  2010      3    9   \n",
       "5         -73.972892         40.758233                1  2011      1    6   \n",
       "\n",
       "   dayofweek  hour  minute  distance  \n",
       "1          1    16      52  8.450134  \n",
       "2          3     0      35  1.389525  \n",
       "3          5     4      30  2.799270  \n",
       "4          1     7      51  1.999157  \n",
       "5          3     9      50  3.787239  "
      ]
     },
     "execution_count": 28,
     "metadata": {},
     "output_type": "execute_result"
    }
   ],
   "source": [
    "train_data.head()"
   ]
  },
  {
   "cell_type": "code",
   "execution_count": 29,
   "metadata": {},
   "outputs": [
    {
     "data": {
      "text/plain": [
       "Counter({False: 13361, True: 116})"
      ]
     },
     "execution_count": 29,
     "metadata": {},
     "output_type": "execute_result"
    }
   ],
   "source": [
    "Counter(train_data['distance']==0)"
   ]
  },
  {
   "cell_type": "code",
   "execution_count": 30,
   "metadata": {},
   "outputs": [
    {
     "data": {
      "text/plain": [
       "(13477, 14)"
      ]
     },
     "execution_count": 30,
     "metadata": {},
     "output_type": "execute_result"
    }
   ],
   "source": [
    "#distance cannot be 0km, so drop the rows which includes dis = 0km\n",
    "for i in data_file:\n",
    "    i = i.drop(i[i['distance']==0].index,axis=0)\n",
    "    \n",
    "train_data.shape"
   ]
  },
  {
   "cell_type": "code",
   "execution_count": 31,
   "metadata": {},
   "outputs": [
    {
     "data": {
      "text/html": [
       "<div>\n",
       "<style scoped>\n",
       "    .dataframe tbody tr th:only-of-type {\n",
       "        vertical-align: middle;\n",
       "    }\n",
       "\n",
       "    .dataframe tbody tr th {\n",
       "        vertical-align: top;\n",
       "    }\n",
       "\n",
       "    .dataframe thead th {\n",
       "        text-align: right;\n",
       "    }\n",
       "</style>\n",
       "<table border=\"1\" class=\"dataframe\">\n",
       "  <thead>\n",
       "    <tr style=\"text-align: right;\">\n",
       "      <th></th>\n",
       "      <th>fare_amount</th>\n",
       "      <th>pickup_longitude</th>\n",
       "      <th>pickup_latitude</th>\n",
       "      <th>dropoff_longitude</th>\n",
       "      <th>dropoff_latitude</th>\n",
       "      <th>passenger_count</th>\n",
       "      <th>year</th>\n",
       "      <th>month</th>\n",
       "      <th>day</th>\n",
       "      <th>dayofweek</th>\n",
       "      <th>hour</th>\n",
       "      <th>minute</th>\n",
       "      <th>distance</th>\n",
       "    </tr>\n",
       "  </thead>\n",
       "  <tbody>\n",
       "    <tr>\n",
       "      <th>count</th>\n",
       "      <td>13477.000000</td>\n",
       "      <td>13477.000000</td>\n",
       "      <td>13477.000000</td>\n",
       "      <td>13477.000000</td>\n",
       "      <td>13477.000000</td>\n",
       "      <td>13477.000000</td>\n",
       "      <td>13477.000000</td>\n",
       "      <td>13477.000000</td>\n",
       "      <td>13477.000000</td>\n",
       "      <td>13477.000000</td>\n",
       "      <td>13477.000000</td>\n",
       "      <td>13477.000000</td>\n",
       "      <td>13477.000000</td>\n",
       "    </tr>\n",
       "    <tr>\n",
       "      <th>mean</th>\n",
       "      <td>9.003596</td>\n",
       "      <td>-73.981820</td>\n",
       "      <td>40.752855</td>\n",
       "      <td>-73.980863</td>\n",
       "      <td>40.753242</td>\n",
       "      <td>1.649328</td>\n",
       "      <td>2011.722564</td>\n",
       "      <td>6.230244</td>\n",
       "      <td>15.650664</td>\n",
       "      <td>3.013282</td>\n",
       "      <td>13.655784</td>\n",
       "      <td>29.694962</td>\n",
       "      <td>2.388362</td>\n",
       "    </tr>\n",
       "    <tr>\n",
       "      <th>std</th>\n",
       "      <td>7.133858</td>\n",
       "      <td>0.016218</td>\n",
       "      <td>0.021349</td>\n",
       "      <td>0.016814</td>\n",
       "      <td>0.022369</td>\n",
       "      <td>1.269453</td>\n",
       "      <td>1.868282</td>\n",
       "      <td>3.450091</td>\n",
       "      <td>8.678808</td>\n",
       "      <td>1.959039</td>\n",
       "      <td>6.349522</td>\n",
       "      <td>17.288765</td>\n",
       "      <td>1.687590</td>\n",
       "    </tr>\n",
       "    <tr>\n",
       "      <th>min</th>\n",
       "      <td>2.500000</td>\n",
       "      <td>-74.023050</td>\n",
       "      <td>40.692830</td>\n",
       "      <td>-74.023050</td>\n",
       "      <td>40.692402</td>\n",
       "      <td>1.000000</td>\n",
       "      <td>2009.000000</td>\n",
       "      <td>1.000000</td>\n",
       "      <td>1.000000</td>\n",
       "      <td>0.000000</td>\n",
       "      <td>0.000000</td>\n",
       "      <td>0.000000</td>\n",
       "      <td>0.000000</td>\n",
       "    </tr>\n",
       "    <tr>\n",
       "      <th>25%</th>\n",
       "      <td>5.700000</td>\n",
       "      <td>-73.992910</td>\n",
       "      <td>40.738353</td>\n",
       "      <td>-73.992100</td>\n",
       "      <td>40.738521</td>\n",
       "      <td>1.000000</td>\n",
       "      <td>2010.000000</td>\n",
       "      <td>3.000000</td>\n",
       "      <td>8.000000</td>\n",
       "      <td>1.000000</td>\n",
       "      <td>9.000000</td>\n",
       "      <td>15.000000</td>\n",
       "      <td>1.186588</td>\n",
       "    </tr>\n",
       "    <tr>\n",
       "      <th>50%</th>\n",
       "      <td>7.700000</td>\n",
       "      <td>-73.982675</td>\n",
       "      <td>40.753534</td>\n",
       "      <td>-73.982045</td>\n",
       "      <td>40.754489</td>\n",
       "      <td>1.000000</td>\n",
       "      <td>2012.000000</td>\n",
       "      <td>6.000000</td>\n",
       "      <td>16.000000</td>\n",
       "      <td>3.000000</td>\n",
       "      <td>14.000000</td>\n",
       "      <td>30.000000</td>\n",
       "      <td>1.927156</td>\n",
       "    </tr>\n",
       "    <tr>\n",
       "      <th>75%</th>\n",
       "      <td>10.900000</td>\n",
       "      <td>-73.971232</td>\n",
       "      <td>40.766870</td>\n",
       "      <td>-73.970464</td>\n",
       "      <td>40.767402</td>\n",
       "      <td>2.000000</td>\n",
       "      <td>2013.000000</td>\n",
       "      <td>9.000000</td>\n",
       "      <td>23.000000</td>\n",
       "      <td>5.000000</td>\n",
       "      <td>19.000000</td>\n",
       "      <td>45.000000</td>\n",
       "      <td>3.132376</td>\n",
       "    </tr>\n",
       "    <tr>\n",
       "      <th>max</th>\n",
       "      <td>453.000000</td>\n",
       "      <td>-73.929557</td>\n",
       "      <td>40.811077</td>\n",
       "      <td>-73.929520</td>\n",
       "      <td>40.812933</td>\n",
       "      <td>6.000000</td>\n",
       "      <td>2015.000000</td>\n",
       "      <td>12.000000</td>\n",
       "      <td>31.000000</td>\n",
       "      <td>6.000000</td>\n",
       "      <td>23.000000</td>\n",
       "      <td>59.000000</td>\n",
       "      <td>12.409200</td>\n",
       "    </tr>\n",
       "  </tbody>\n",
       "</table>\n",
       "</div>"
      ],
      "text/plain": [
       "        fare_amount  pickup_longitude  pickup_latitude  dropoff_longitude  \\\n",
       "count  13477.000000      13477.000000     13477.000000       13477.000000   \n",
       "mean       9.003596        -73.981820        40.752855         -73.980863   \n",
       "std        7.133858          0.016218         0.021349           0.016814   \n",
       "min        2.500000        -74.023050        40.692830         -74.023050   \n",
       "25%        5.700000        -73.992910        40.738353         -73.992100   \n",
       "50%        7.700000        -73.982675        40.753534         -73.982045   \n",
       "75%       10.900000        -73.971232        40.766870         -73.970464   \n",
       "max      453.000000        -73.929557        40.811077         -73.929520   \n",
       "\n",
       "       dropoff_latitude  passenger_count          year         month  \\\n",
       "count      13477.000000     13477.000000  13477.000000  13477.000000   \n",
       "mean          40.753242         1.649328   2011.722564      6.230244   \n",
       "std            0.022369         1.269453      1.868282      3.450091   \n",
       "min           40.692402         1.000000   2009.000000      1.000000   \n",
       "25%           40.738521         1.000000   2010.000000      3.000000   \n",
       "50%           40.754489         1.000000   2012.000000      6.000000   \n",
       "75%           40.767402         2.000000   2013.000000      9.000000   \n",
       "max           40.812933         6.000000   2015.000000     12.000000   \n",
       "\n",
       "                day     dayofweek          hour        minute      distance  \n",
       "count  13477.000000  13477.000000  13477.000000  13477.000000  13477.000000  \n",
       "mean      15.650664      3.013282     13.655784     29.694962      2.388362  \n",
       "std        8.678808      1.959039      6.349522     17.288765      1.687590  \n",
       "min        1.000000      0.000000      0.000000      0.000000      0.000000  \n",
       "25%        8.000000      1.000000      9.000000     15.000000      1.186588  \n",
       "50%       16.000000      3.000000     14.000000     30.000000      1.927156  \n",
       "75%       23.000000      5.000000     19.000000     45.000000      3.132376  \n",
       "max       31.000000      6.000000     23.000000     59.000000     12.409200  "
      ]
     },
     "execution_count": 31,
     "metadata": {},
     "output_type": "execute_result"
    }
   ],
   "source": [
    "train_data.describe()"
   ]
  },
  {
   "cell_type": "markdown",
   "metadata": {},
   "source": [
    "# Classification"
   ]
  },
  {
   "cell_type": "code",
   "execution_count": 32,
   "metadata": {},
   "outputs": [],
   "source": [
    "!pip install -U googlemaps\n",
    "!pip install geopy\n",
    "import googlemaps, time\n",
    "import geopy.distance\n",
    "from googlemaps import GoogleMaps\n",
    "\n",
    "gkey = 'your_api_key_google_console'\n",
    "gmaps = GoogleMaps(api_key)\n",
    "coords_col = ['pickup_latitude', 'pickup_longitude', 'dropoff_longitude', 'dropoff_latitude']\n",
    "\n"
   ]
  },
  {
   "cell_type": "code",
   "execution_count": null,
   "metadata": {},
   "outputs": [],
   "source": [
    "data_file =[train_data,test_data]\n",
    "\n",
    "for j in data_file:\n",
    "    j['coords'] = list(zip(zip(j.pickup_latitude, j.pickup_longitude), zip(j.dropoff_latitude, j.dropoff_longitude)))"
   ]
  },
  {
   "cell_type": "code",
   "execution_count": null,
   "metadata": {},
   "outputs": [],
   "source": [
    " #Finds the ON-ROAD DISTANCE between the origin coordinates & destination coordinates\n",
    "  #  1. Uses Google Maps API\n",
    "  #  2. A Google Cloud Platform API Key is needed\n",
    "  #  3. Install googlemaps library - !pip install -U googlemaps\n",
    "  #  4. Result of the API is in JSON Format. Extracting data from it using conventional Python tools\n",
    "  #  5. Taking distance value in meter\n",
    "  #  6. Taking duration value in seconds\n",
    "\n",
    "\n",
    "for j in data_file:\n",
    "    for i in range(len(j['coords'])):\n",
    "    coord = j['coords'][i]\n",
    "    origin = coord[0]\n",
    "    dest = coord[1]\n",
    "        #time = time.mktime(year=2019,month=8,day=)\n",
    "    distance_results = gmaps.distance_matrix(origin, dest, mode='driving')\n",
    "    on_road_distance = distance_results['rows'][0]['elements'][0]['distance']['value']\n",
    "    on_road_time = distance_results['rows'][0]['elements'][0]['duration']['value']\n",
    "    \n",
    "    #for aerial distance\n",
    "    \"\"\"\n",
    "    Function to find the aerial distance between the origin & destination coordinates\n",
    "    Vincenty Formula is used for higher accuracy\n",
    "    1. geopy library is used - !pip install geopy\n",
    "    2. Distance is stored in meter\n",
    "    \"\"\"\n",
    "    aerial_dist = geopy.distance.distance(origin, dest).m\n",
    "    \n",
    "    j['onroad_distance'].iloc[i] = on_road_distance\n",
    "    j['onroad_time'].iloc[i] = on_road_time\n",
    "    j['aerial_distance'].iloc[i] = aerial_dist\n"
   ]
  },
  {
   "cell_type": "code",
   "execution_count": 45,
   "metadata": {
    "scrolled": true
   },
   "outputs": [],
   "source": [
    "# mean longitude =-73.982738 and laitude= 40.761270 is of \"New York, NY, USA\"\n",
    "from datetime import datetime\n",
    "from datetime import date\n",
    "\n",
    "data_file =[train_data,test_data]\n",
    "\n",
    "for j in data_file:\n",
    "    for i in range(len(j['pickup_datetime'])):\n",
    "        timestamp = j['pickup_datetime'].iloc[i]\n",
    "        \n",
    "        #for week days\n",
    "        wday = timestamp.weekday()\n",
    "        j['dayofweek'].iloc[i] = wday\n",
    "        if (wday <= 4): # It IS A WEEKDAY : Monday - 0, Tuesday - 1,.... Friday - 4\n",
    "            j['wday'].iloc[i] = 1\n",
    "        else: # It is NOT A WEEKDAY : Saturday - 5, Sunday - 6\n",
    "            j['wday'].iloc[i] = 0\n",
    "\n",
    "        #for busy hours     \n",
    "        hr = timestamp.hour\n",
    "        j['hour'].iloc[i] = hr\n",
    "        if (hr in range(12,17) or hr in range(21,24) or hr in range(0, 2)):\n",
    "            # Time adjusted from NY time to UTC for RUSH HOUR\n",
    "            j['busy_hour'].iloc[i] = 1\n",
    "        else:\n",
    "            j['busy_hour'].iloc[i] = 0\n",
    "            \n",
    "        \n",
    "        #for month\n",
    "        #Spring Season(0): March, April, May. ...\n",
    "        #Summer Season(1): June, July, August.\n",
    "        #Rainy Season(2): September, October, November. ...\n",
    "        #Winter Season(3): December, January, February. ...\n",
    "        \n",
    "        \n",
    "        mnth = timestamp.month # 0-Jan, 1-Feb,... 11-Dec \n",
    "        j['month'].iloc[i] = mnth\n",
    "\n",
    "        if (mnth in range(2,4)):    # spring season\n",
    "            j['month_season'].iloc[i] = 0\n",
    "        elif(mnth in range(5,7)):   # Summer season\n",
    "            j['month_season'].iloc[i] = 1\n",
    "        elif(mnth in range(8,10)):  # rainy season\n",
    "            j['month_season'].iloc[i] = 2\n",
    "        else:                       # winter season\n",
    "            j['month_season'].iloc[i] = 3"
   ]
  },
  {
   "cell_type": "code",
   "execution_count": 46,
   "metadata": {},
   "outputs": [
    {
     "data": {
      "text/html": [
       "<div>\n",
       "<style scoped>\n",
       "    .dataframe tbody tr th:only-of-type {\n",
       "        vertical-align: middle;\n",
       "    }\n",
       "\n",
       "    .dataframe tbody tr th {\n",
       "        vertical-align: top;\n",
       "    }\n",
       "\n",
       "    .dataframe thead th {\n",
       "        text-align: right;\n",
       "    }\n",
       "</style>\n",
       "<table border=\"1\" class=\"dataframe\">\n",
       "  <thead>\n",
       "    <tr style=\"text-align: right;\">\n",
       "      <th></th>\n",
       "      <th>fare_amount</th>\n",
       "      <th>pickup_datetime</th>\n",
       "      <th>pickup_longitude</th>\n",
       "      <th>pickup_latitude</th>\n",
       "      <th>dropoff_longitude</th>\n",
       "      <th>dropoff_latitude</th>\n",
       "      <th>passenger_count</th>\n",
       "      <th>year</th>\n",
       "      <th>month</th>\n",
       "      <th>day</th>\n",
       "      <th>dayofweek</th>\n",
       "      <th>hour</th>\n",
       "      <th>minute</th>\n",
       "      <th>distance</th>\n",
       "      <th>wday</th>\n",
       "      <th>busy_hour</th>\n",
       "      <th>month_season</th>\n",
       "    </tr>\n",
       "  </thead>\n",
       "  <tbody>\n",
       "    <tr>\n",
       "      <th>1</th>\n",
       "      <td>16.9</td>\n",
       "      <td>2010-01-05 16:52:16</td>\n",
       "      <td>-74.016048</td>\n",
       "      <td>40.711303</td>\n",
       "      <td>-73.979268</td>\n",
       "      <td>40.782004</td>\n",
       "      <td>1</td>\n",
       "      <td>2010</td>\n",
       "      <td>1</td>\n",
       "      <td>5</td>\n",
       "      <td>1</td>\n",
       "      <td>16</td>\n",
       "      <td>52</td>\n",
       "      <td>8.450134</td>\n",
       "      <td>1</td>\n",
       "      <td>1</td>\n",
       "      <td>3</td>\n",
       "    </tr>\n",
       "    <tr>\n",
       "      <th>2</th>\n",
       "      <td>5.7</td>\n",
       "      <td>2011-08-18 00:35:00</td>\n",
       "      <td>-73.982738</td>\n",
       "      <td>40.761270</td>\n",
       "      <td>-73.991242</td>\n",
       "      <td>40.750562</td>\n",
       "      <td>2</td>\n",
       "      <td>2011</td>\n",
       "      <td>8</td>\n",
       "      <td>18</td>\n",
       "      <td>3</td>\n",
       "      <td>0</td>\n",
       "      <td>35</td>\n",
       "      <td>1.389525</td>\n",
       "      <td>1</td>\n",
       "      <td>1</td>\n",
       "      <td>2</td>\n",
       "    </tr>\n",
       "    <tr>\n",
       "      <th>3</th>\n",
       "      <td>7.7</td>\n",
       "      <td>2012-04-21 04:30:42</td>\n",
       "      <td>-73.987130</td>\n",
       "      <td>40.733143</td>\n",
       "      <td>-73.991567</td>\n",
       "      <td>40.758092</td>\n",
       "      <td>1</td>\n",
       "      <td>2012</td>\n",
       "      <td>4</td>\n",
       "      <td>21</td>\n",
       "      <td>5</td>\n",
       "      <td>4</td>\n",
       "      <td>30</td>\n",
       "      <td>2.799270</td>\n",
       "      <td>0</td>\n",
       "      <td>0</td>\n",
       "      <td>3</td>\n",
       "    </tr>\n",
       "    <tr>\n",
       "      <th>4</th>\n",
       "      <td>5.3</td>\n",
       "      <td>2010-03-09 07:51:00</td>\n",
       "      <td>-73.968095</td>\n",
       "      <td>40.768008</td>\n",
       "      <td>-73.956655</td>\n",
       "      <td>40.783762</td>\n",
       "      <td>1</td>\n",
       "      <td>2010</td>\n",
       "      <td>3</td>\n",
       "      <td>9</td>\n",
       "      <td>1</td>\n",
       "      <td>7</td>\n",
       "      <td>51</td>\n",
       "      <td>1.999157</td>\n",
       "      <td>1</td>\n",
       "      <td>0</td>\n",
       "      <td>0</td>\n",
       "    </tr>\n",
       "    <tr>\n",
       "      <th>5</th>\n",
       "      <td>12.1</td>\n",
       "      <td>2011-01-06 09:50:45</td>\n",
       "      <td>-74.000964</td>\n",
       "      <td>40.731630</td>\n",
       "      <td>-73.972892</td>\n",
       "      <td>40.758233</td>\n",
       "      <td>1</td>\n",
       "      <td>2011</td>\n",
       "      <td>1</td>\n",
       "      <td>6</td>\n",
       "      <td>3</td>\n",
       "      <td>9</td>\n",
       "      <td>50</td>\n",
       "      <td>3.787239</td>\n",
       "      <td>1</td>\n",
       "      <td>0</td>\n",
       "      <td>3</td>\n",
       "    </tr>\n",
       "  </tbody>\n",
       "</table>\n",
       "</div>"
      ],
      "text/plain": [
       "   fare_amount     pickup_datetime  pickup_longitude  pickup_latitude  \\\n",
       "1         16.9 2010-01-05 16:52:16        -74.016048        40.711303   \n",
       "2          5.7 2011-08-18 00:35:00        -73.982738        40.761270   \n",
       "3          7.7 2012-04-21 04:30:42        -73.987130        40.733143   \n",
       "4          5.3 2010-03-09 07:51:00        -73.968095        40.768008   \n",
       "5         12.1 2011-01-06 09:50:45        -74.000964        40.731630   \n",
       "\n",
       "   dropoff_longitude  dropoff_latitude  passenger_count  year  month  day  \\\n",
       "1         -73.979268         40.782004                1  2010      1    5   \n",
       "2         -73.991242         40.750562                2  2011      8   18   \n",
       "3         -73.991567         40.758092                1  2012      4   21   \n",
       "4         -73.956655         40.783762                1  2010      3    9   \n",
       "5         -73.972892         40.758233                1  2011      1    6   \n",
       "\n",
       "   dayofweek  hour  minute  distance  wday  busy_hour  month_season  \n",
       "1          1    16      52  8.450134     1          1             3  \n",
       "2          3     0      35  1.389525     1          1             2  \n",
       "3          5     4      30  2.799270     0          0             3  \n",
       "4          1     7      51  1.999157     1          0             0  \n",
       "5          3     9      50  3.787239     1          0             3  "
      ]
     },
     "execution_count": 46,
     "metadata": {},
     "output_type": "execute_result"
    }
   ],
   "source": [
    "train_data.head()"
   ]
  },
  {
   "cell_type": "markdown",
   "metadata": {},
   "source": [
    "<h3> Create a checkpoint"
   ]
  },
  {
   "cell_type": "code",
   "execution_count": 47,
   "metadata": {},
   "outputs": [
    {
     "data": {
      "text/html": [
       "<div>\n",
       "<style scoped>\n",
       "    .dataframe tbody tr th:only-of-type {\n",
       "        vertical-align: middle;\n",
       "    }\n",
       "\n",
       "    .dataframe tbody tr th {\n",
       "        vertical-align: top;\n",
       "    }\n",
       "\n",
       "    .dataframe thead th {\n",
       "        text-align: right;\n",
       "    }\n",
       "</style>\n",
       "<table border=\"1\" class=\"dataframe\">\n",
       "  <thead>\n",
       "    <tr style=\"text-align: right;\">\n",
       "      <th></th>\n",
       "      <th>fare_amount</th>\n",
       "      <th>pickup_datetime</th>\n",
       "      <th>pickup_longitude</th>\n",
       "      <th>pickup_latitude</th>\n",
       "      <th>dropoff_longitude</th>\n",
       "      <th>dropoff_latitude</th>\n",
       "      <th>passenger_count</th>\n",
       "      <th>year</th>\n",
       "      <th>month</th>\n",
       "      <th>day</th>\n",
       "      <th>dayofweek</th>\n",
       "      <th>hour</th>\n",
       "      <th>minute</th>\n",
       "      <th>distance</th>\n",
       "      <th>wday</th>\n",
       "      <th>busy_hour</th>\n",
       "      <th>month_season</th>\n",
       "    </tr>\n",
       "  </thead>\n",
       "  <tbody>\n",
       "    <tr>\n",
       "      <th>1</th>\n",
       "      <td>16.9</td>\n",
       "      <td>2010-01-05 16:52:16</td>\n",
       "      <td>-74.016048</td>\n",
       "      <td>40.711303</td>\n",
       "      <td>-73.979268</td>\n",
       "      <td>40.782004</td>\n",
       "      <td>1</td>\n",
       "      <td>2010</td>\n",
       "      <td>1</td>\n",
       "      <td>5</td>\n",
       "      <td>1</td>\n",
       "      <td>16</td>\n",
       "      <td>52</td>\n",
       "      <td>8.450134</td>\n",
       "      <td>1</td>\n",
       "      <td>1</td>\n",
       "      <td>3</td>\n",
       "    </tr>\n",
       "    <tr>\n",
       "      <th>2</th>\n",
       "      <td>5.7</td>\n",
       "      <td>2011-08-18 00:35:00</td>\n",
       "      <td>-73.982738</td>\n",
       "      <td>40.761270</td>\n",
       "      <td>-73.991242</td>\n",
       "      <td>40.750562</td>\n",
       "      <td>2</td>\n",
       "      <td>2011</td>\n",
       "      <td>8</td>\n",
       "      <td>18</td>\n",
       "      <td>3</td>\n",
       "      <td>0</td>\n",
       "      <td>35</td>\n",
       "      <td>1.389525</td>\n",
       "      <td>1</td>\n",
       "      <td>1</td>\n",
       "      <td>2</td>\n",
       "    </tr>\n",
       "    <tr>\n",
       "      <th>3</th>\n",
       "      <td>7.7</td>\n",
       "      <td>2012-04-21 04:30:42</td>\n",
       "      <td>-73.987130</td>\n",
       "      <td>40.733143</td>\n",
       "      <td>-73.991567</td>\n",
       "      <td>40.758092</td>\n",
       "      <td>1</td>\n",
       "      <td>2012</td>\n",
       "      <td>4</td>\n",
       "      <td>21</td>\n",
       "      <td>5</td>\n",
       "      <td>4</td>\n",
       "      <td>30</td>\n",
       "      <td>2.799270</td>\n",
       "      <td>0</td>\n",
       "      <td>0</td>\n",
       "      <td>3</td>\n",
       "    </tr>\n",
       "    <tr>\n",
       "      <th>4</th>\n",
       "      <td>5.3</td>\n",
       "      <td>2010-03-09 07:51:00</td>\n",
       "      <td>-73.968095</td>\n",
       "      <td>40.768008</td>\n",
       "      <td>-73.956655</td>\n",
       "      <td>40.783762</td>\n",
       "      <td>1</td>\n",
       "      <td>2010</td>\n",
       "      <td>3</td>\n",
       "      <td>9</td>\n",
       "      <td>1</td>\n",
       "      <td>7</td>\n",
       "      <td>51</td>\n",
       "      <td>1.999157</td>\n",
       "      <td>1</td>\n",
       "      <td>0</td>\n",
       "      <td>0</td>\n",
       "    </tr>\n",
       "    <tr>\n",
       "      <th>5</th>\n",
       "      <td>12.1</td>\n",
       "      <td>2011-01-06 09:50:45</td>\n",
       "      <td>-74.000964</td>\n",
       "      <td>40.731630</td>\n",
       "      <td>-73.972892</td>\n",
       "      <td>40.758233</td>\n",
       "      <td>1</td>\n",
       "      <td>2011</td>\n",
       "      <td>1</td>\n",
       "      <td>6</td>\n",
       "      <td>3</td>\n",
       "      <td>9</td>\n",
       "      <td>50</td>\n",
       "      <td>3.787239</td>\n",
       "      <td>1</td>\n",
       "      <td>0</td>\n",
       "      <td>3</td>\n",
       "    </tr>\n",
       "  </tbody>\n",
       "</table>\n",
       "</div>"
      ],
      "text/plain": [
       "   fare_amount     pickup_datetime  pickup_longitude  pickup_latitude  \\\n",
       "1         16.9 2010-01-05 16:52:16        -74.016048        40.711303   \n",
       "2          5.7 2011-08-18 00:35:00        -73.982738        40.761270   \n",
       "3          7.7 2012-04-21 04:30:42        -73.987130        40.733143   \n",
       "4          5.3 2010-03-09 07:51:00        -73.968095        40.768008   \n",
       "5         12.1 2011-01-06 09:50:45        -74.000964        40.731630   \n",
       "\n",
       "   dropoff_longitude  dropoff_latitude  passenger_count  year  month  day  \\\n",
       "1         -73.979268         40.782004                1  2010      1    5   \n",
       "2         -73.991242         40.750562                2  2011      8   18   \n",
       "3         -73.991567         40.758092                1  2012      4   21   \n",
       "4         -73.956655         40.783762                1  2010      3    9   \n",
       "5         -73.972892         40.758233                1  2011      1    6   \n",
       "\n",
       "   dayofweek  hour  minute  distance  wday  busy_hour  month_season  \n",
       "1          1    16      52  8.450134     1          1             3  \n",
       "2          3     0      35  1.389525     1          1             2  \n",
       "3          5     4      30  2.799270     0          0             3  \n",
       "4          1     7      51  1.999157     1          0             0  \n",
       "5          3     9      50  3.787239     1          0             3  "
      ]
     },
     "execution_count": 47,
     "metadata": {},
     "output_type": "execute_result"
    }
   ],
   "source": [
    "#create a checkpoint \n",
    "df_train = train_data.copy()\n",
    "df_train.head()"
   ]
  },
  {
   "cell_type": "code",
   "execution_count": 48,
   "metadata": {},
   "outputs": [],
   "source": [
    "df_test = test_data.copy()"
   ]
  },
  {
   "cell_type": "markdown",
   "metadata": {},
   "source": [
    "<h3> Drop unnecessary features"
   ]
  },
  {
   "cell_type": "code",
   "execution_count": 49,
   "metadata": {},
   "outputs": [
    {
     "name": "stdout",
     "output_type": "stream",
     "text": [
      "<class 'pandas.core.frame.DataFrame'>\n",
      "Int64Index: 13477 entries, 1 to 16065\n",
      "Data columns (total 9 columns):\n",
      " #   Column           Non-Null Count  Dtype  \n",
      "---  ------           --------------  -----  \n",
      " 0   fare_amount      13477 non-null  float32\n",
      " 1   passenger_count  13477 non-null  int32  \n",
      " 2   month            13477 non-null  int64  \n",
      " 3   dayofweek        13477 non-null  int64  \n",
      " 4   hour             13477 non-null  int64  \n",
      " 5   distance         13477 non-null  float64\n",
      " 6   wday             13477 non-null  int64  \n",
      " 7   busy_hour        13477 non-null  int64  \n",
      " 8   month_season     13477 non-null  int64  \n",
      "dtypes: float32(1), float64(1), int32(1), int64(6)\n",
      "memory usage: 947.6 KB\n"
     ]
    }
   ],
   "source": [
    "#drop unnecessary features from data frame\n",
    "cols = ['pickup_datetime','pickup_longitude','pickup_latitude','dropoff_longitude','dropoff_latitude','year','day','minute']\n",
    "\n",
    "#drop cols from train dataframe\n",
    "df_train = df_train.drop(cols,axis=1)\n",
    "df_train.info()"
   ]
  },
  {
   "cell_type": "code",
   "execution_count": 50,
   "metadata": {},
   "outputs": [
    {
     "name": "stdout",
     "output_type": "stream",
     "text": [
      "<class 'pandas.core.frame.DataFrame'>\n",
      "Int64Index: 9914 entries, 0 to 9913\n",
      "Data columns (total 8 columns):\n",
      " #   Column           Non-Null Count  Dtype  \n",
      "---  ------           --------------  -----  \n",
      " 0   passenger_count  9914 non-null   int64  \n",
      " 1   month            9914 non-null   int64  \n",
      " 2   dayofweek        9914 non-null   int64  \n",
      " 3   hour             9914 non-null   int64  \n",
      " 4   distance         9914 non-null   float64\n",
      " 5   wday             9914 non-null   int64  \n",
      " 6   busy_hour        9914 non-null   int64  \n",
      " 7   month_season     9914 non-null   int64  \n",
      "dtypes: float64(1), int64(7)\n",
      "memory usage: 697.1 KB\n"
     ]
    }
   ],
   "source": [
    "#drop cols from test dataframe\n",
    "df_test = df_test.drop(cols,axis=1)\n",
    "df_test.info()"
   ]
  },
  {
   "cell_type": "markdown",
   "metadata": {},
   "source": [
    "# 4. Data Visualisation"
   ]
  },
  {
   "cell_type": "code",
   "execution_count": 51,
   "metadata": {},
   "outputs": [
    {
     "data": {
      "text/plain": [
       "array(['fare_amount', 'passenger_count', 'month', 'dayofweek', 'hour',\n",
       "       'distance', 'wday', 'busy_hour', 'month_season'], dtype=object)"
      ]
     },
     "execution_count": 51,
     "metadata": {},
     "output_type": "execute_result"
    }
   ],
   "source": [
    "df_train.columns.values"
   ]
  },
  {
   "cell_type": "code",
   "execution_count": null,
   "metadata": {},
   "outputs": [],
   "source": [
    "numerical_col = ['passenger_count','onroad_distance','onroad_time','aerial_distance','fare_amount']\n",
    "categorical_col = ['wday','dayofweek','month','month_season','hour','busy_hour']"
   ]
  },
  {
   "cell_type": "markdown",
   "metadata": {},
   "source": [
    "<h3>Correlation Matrix using Heatmap"
   ]
  },
  {
   "cell_type": "code",
   "execution_count": 52,
   "metadata": {},
   "outputs": [
    {
     "data": {
      "text/plain": [
       "<matplotlib.axes._subplots.AxesSubplot at 0x216cdcd06c8>"
      ]
     },
     "execution_count": 52,
     "metadata": {},
     "output_type": "execute_result"
    },
    {
     "data": {
      "image/png": "[encoded data removed]",
      "text/plain": [
       "<Figure size 1080x720 with 2 Axes>"
      ]
     },
     "metadata": {},
     "output_type": "display_data"
    }
   ],
   "source": [
    "corrmat = df_train[numerical_col].corr()\n",
    "f,ax = plt.subplots(figsize = (15,10))\n",
    "sns.heatmap(corrmat,vmax=.8, square=True)"
   ]
  },
  {
   "cell_type": "code",
   "execution_count": 53,
   "metadata": {},
   "outputs": [
    {
     "data": {
      "image/png": "[encoded data removed]",
      "text/plain": [
       "<Figure size 1008x720 with 2 Axes>"
      ]
     },
     "metadata": {},
     "output_type": "display_data"
    }
   ],
   "source": [
    "k=10\n",
    "cls = corrmat.nlargest(k,'fare_amount')['fare_amount'].index\n",
    "cm = np.corrcoef(df_train[cls].values.T)\n",
    "sns.set(font_scale=1.25)\n",
    "fig = plt.figure(figsize = (14,10))\n",
    "hm = sns.heatmap(cm,cbar=True, annot=True, square=True, fmt='.2f',annot_kws={'size':10},yticklabels= cls.values, xticklabels= cls.values)\n"
   ]
  },
  {
   "cell_type": "markdown",
   "metadata": {},
   "source": [
    "<h3>Scatterplot between 'Fare Amount' and correlated variables"
   ]
  },
  {
   "cell_type": "code",
   "execution_count": 54,
   "metadata": {},
   "outputs": [
    {
     "data": {
      "image/png": "[encoded data removed]",
      "text/plain": [
       "<Figure size 1620x1620 with 90 Axes>"
      ]
     },
     "metadata": {},
     "output_type": "display_data"
    }
   ],
   "source": [
    "\n",
    "sns.set()\n",
    "sns.pairplot(df_train[numerical_col],size=2.5)\n",
    "plt.show()"
   ]
  },
  {
   "cell_type": "code",
   "execution_count": 55,
   "metadata": {},
   "outputs": [
    {
     "name": "stdout",
     "output_type": "stream",
     "text": [
      "fare_amount\n"
     ]
    },
    {
     "data": {
      "image/png": "[encoded data removed]",
      "text/plain": [
       "<Figure size 432x288 with 1 Axes>"
      ]
     },
     "metadata": {},
     "output_type": "display_data"
    },
    {
     "name": "stdout",
     "output_type": "stream",
     "text": [
      "distance\n"
     ]
    },
    {
     "data": {
      "image/png": "[encoded data removed]",
      "text/plain": [
       "<Figure size 432x288 with 1 Axes>"
      ]
     },
     "metadata": {},
     "output_type": "display_data"
    }
   ],
   "source": [
    "#normality check of training data is uniformly distributed or not\n",
    "for i in ['fare_amount','distance']:\n",
    "    print(i)\n",
    "    sns.distplot(df_train[i],bins ='auto', color='green')\n",
    "    plt.title(\"Distribution for variable \" +i)\n",
    "    plt.ylabel(\"Density\")\n",
    "    plt.show()"
   ]
  },
  {
   "cell_type": "code",
   "execution_count": 56,
   "metadata": {},
   "outputs": [],
   "source": [
    "#observations: the distribution of 'Fare Amount' and 'Distance' are right skewed in order to get right predictions, transform the values using Logrithmic fxn\n",
    "\n",
    "#Transforming the values of columns 'Fare Amount' and 'Distance' on train dataset"
   ]
  },
  {
   "cell_type": "code",
   "execution_count": 57,
   "metadata": {},
   "outputs": [],
   "source": [
    "#since skewness of target variable is high, apply log transform to reduce the skewness\n",
    "for i in ['fare_amount', 'distance']:\n",
    "    df_train[i] = np.log1p(df_train[i])    "
   ]
  },
  {
   "cell_type": "code",
   "execution_count": 58,
   "metadata": {},
   "outputs": [
    {
     "name": "stdout",
     "output_type": "stream",
     "text": [
      "fare_amount\n"
     ]
    },
    {
     "data": {
      "image/png": "[encoded data removed]",
      "text/plain": [
       "<Figure size 432x288 with 1 Axes>"
      ]
     },
     "metadata": {},
     "output_type": "display_data"
    },
    {
     "name": "stdout",
     "output_type": "stream",
     "text": [
      "distance\n"
     ]
    },
    {
     "data": {
      "image/png": "[encoded data removed]",
      "text/plain": [
       "<Figure size 432x288 with 1 Axes>"
      ]
     },
     "metadata": {},
     "output_type": "display_data"
    }
   ],
   "source": [
    "#Plotting the distribution after transformation\n",
    "\n",
    "#normality re-check of training data is uniformly distributed or not\n",
    "for i in ['fare_amount','distance']:\n",
    "    print(i)\n",
    "    sns.distplot(df_train[i],bins ='auto', color='green')\n",
    "    plt.title(\"Distribution for variable \" +i)\n",
    "    plt.ylabel(\"Density\")\n",
    "    plt.show()"
   ]
  },
  {
   "cell_type": "markdown",
   "metadata": {},
   "source": [
    "# 5. Building and Training Models"
   ]
  },
  {
   "cell_type": "markdown",
   "metadata": {},
   "source": [
    "<h3>Split the data"
   ]
  },
  {
   "cell_type": "code",
   "execution_count": 59,
   "metadata": {},
   "outputs": [],
   "source": [
    "feature_names = ['passenger_count',,'onroad_distance','onroad_time','aerial_distance','distance','month', 'dayofweek', 'hour', 'wday', 'busy_hour', 'month_season']\n",
    "\n",
    "X= df_train[feature_names]\n",
    "y= df_train['fare_amount']"
   ]
  },
  {
   "cell_type": "code",
   "execution_count": 68,
   "metadata": {},
   "outputs": [],
   "source": [
    "from sklearn.model_selection import train_test_split \n",
    "\n",
    "#split into train and validation data\n",
    "train_X,val_X, train_y,val_y = train_test_split(X,y,random_state=1,train_size=0.8)\n"
   ]
  },
  {
   "cell_type": "code",
   "execution_count": 95,
   "metadata": {},
   "outputs": [],
   "source": [
    "#to check the residual error between actual and predicted values\n",
    "from sklearn.metrics import mean_squared_error\n",
    "\n",
    "#to find accuracy for regression model\n",
    "from sklearn.metrics import r2_score\n",
    "\n",
    "#for tuning hyper parameters\n",
    "from sklearn.model_selection import GridSearchCV\n"
   ]
  },
  {
   "cell_type": "markdown",
   "metadata": {},
   "source": [
    "<h3>5.1 Linear Refression Model"
   ]
  },
  {
   "cell_type": "code",
   "execution_count": 97,
   "metadata": {},
   "outputs": [
    {
     "data": {
      "text/plain": [
       "LinearRegression(copy_X=True, fit_intercept=True, n_jobs=None, normalize=False)"
      ]
     },
     "execution_count": 97,
     "metadata": {},
     "output_type": "execute_result"
    }
   ],
   "source": [
    "from sklearn.linear_model import LinearRegression\n",
    "\n",
    "#Fit the model\n",
    "model_lr = LinearRegression()\n",
    "\n",
    "#fit the training data\n",
    "model_lr.fit(train_X,train_y)"
   ]
  },
  {
   "cell_type": "code",
   "execution_count": 98,
   "metadata": {},
   "outputs": [
    {
     "data": {
      "text/plain": [
       "array([1.72019675, 2.37697777, 2.33993544, ..., 2.29535854, 2.16932435,\n",
       "       1.82999987])"
      ]
     },
     "execution_count": 98,
     "metadata": {},
     "output_type": "execute_result"
    }
   ],
   "source": [
    "#Predicting the model on training data\n",
    "train_pred_lr = model_lr.predict(train_X)\n",
    "train_pred_lr"
   ]
  },
  {
   "cell_type": "code",
   "execution_count": 99,
   "metadata": {},
   "outputs": [
    {
     "data": {
      "text/html": [
       "<div>\n",
       "<style scoped>\n",
       "    .dataframe tbody tr th:only-of-type {\n",
       "        vertical-align: middle;\n",
       "    }\n",
       "\n",
       "    .dataframe tbody tr th {\n",
       "        vertical-align: top;\n",
       "    }\n",
       "\n",
       "    .dataframe thead th {\n",
       "        text-align: right;\n",
       "    }\n",
       "</style>\n",
       "<table border=\"1\" class=\"dataframe\">\n",
       "  <thead>\n",
       "    <tr style=\"text-align: right;\">\n",
       "      <th></th>\n",
       "      <th>0</th>\n",
       "    </tr>\n",
       "  </thead>\n",
       "  <tbody>\n",
       "    <tr>\n",
       "      <th>0</th>\n",
       "      <td>2.553300</td>\n",
       "    </tr>\n",
       "    <tr>\n",
       "      <th>1</th>\n",
       "      <td>1.908389</td>\n",
       "    </tr>\n",
       "    <tr>\n",
       "      <th>2</th>\n",
       "      <td>2.273580</td>\n",
       "    </tr>\n",
       "    <tr>\n",
       "      <th>3</th>\n",
       "      <td>2.145659</td>\n",
       "    </tr>\n",
       "    <tr>\n",
       "      <th>4</th>\n",
       "      <td>1.842587</td>\n",
       "    </tr>\n",
       "    <tr>\n",
       "      <th>...</th>\n",
       "      <td>...</td>\n",
       "    </tr>\n",
       "    <tr>\n",
       "      <th>2691</th>\n",
       "      <td>1.687883</td>\n",
       "    </tr>\n",
       "    <tr>\n",
       "      <th>2692</th>\n",
       "      <td>1.663294</td>\n",
       "    </tr>\n",
       "    <tr>\n",
       "      <th>2693</th>\n",
       "      <td>2.545951</td>\n",
       "    </tr>\n",
       "    <tr>\n",
       "      <th>2694</th>\n",
       "      <td>2.265976</td>\n",
       "    </tr>\n",
       "    <tr>\n",
       "      <th>2695</th>\n",
       "      <td>2.168497</td>\n",
       "    </tr>\n",
       "  </tbody>\n",
       "</table>\n",
       "<p>2696 rows × 1 columns</p>\n",
       "</div>"
      ],
      "text/plain": [
       "             0\n",
       "0     2.553300\n",
       "1     1.908389\n",
       "2     2.273580\n",
       "3     2.145659\n",
       "4     1.842587\n",
       "...        ...\n",
       "2691  1.687883\n",
       "2692  1.663294\n",
       "2693  2.545951\n",
       "2694  2.265976\n",
       "2695  2.168497\n",
       "\n",
       "[2696 rows x 1 columns]"
      ]
     },
     "execution_count": 99,
     "metadata": {},
     "output_type": "execute_result"
    }
   ],
   "source": [
    "#Predicting the model on validation data\n",
    "val_pred_lr = pd.DataFrame(model_lr.predict(val_X))\n",
    "val_pred_lr"
   ]
  },
  {
   "cell_type": "code",
   "execution_count": 100,
   "metadata": {},
   "outputs": [
    {
     "name": "stdout",
     "output_type": "stream",
     "text": [
      "0.1783617288143888\n"
     ]
    }
   ],
   "source": [
    "#Calculate the Mean Absolute Error\n",
    "from sklearn.metrics import mean_absolute_error\n",
    "\n",
    "print(mean_absolute_error(val_y,val_pred_lr))\n"
   ]
  },
  {
   "cell_type": "code",
   "execution_count": 101,
   "metadata": {},
   "outputs": [
    {
     "name": "stdout",
     "output_type": "stream",
     "text": [
      "Validation Prediction:\n",
      " [2.55330037 1.90838921 2.27357956 2.14565916 1.84258745]\n",
      "Actual Fare Amount from Validation Data:\n",
      " 11724    2.442347\n",
      "13897    1.960095\n",
      "3224     2.292535\n",
      "6192     2.251292\n",
      "13939    1.504077\n",
      "Name: fare_amount, dtype: float32\n"
     ]
    }
   ],
   "source": [
    "#inspect your predictions and actual values from validation Data\n",
    "print('Validation Prediction:\\n',model_lr.predict(val_X.head()))\n",
    "print('Actual Fare Amount from Validation Data:\\n',val_y.head())"
   ]
  },
  {
   "cell_type": "code",
   "execution_count": 102,
   "metadata": {},
   "outputs": [
    {
     "name": "stdout",
     "output_type": "stream",
     "text": [
      "RMSE for training data:  0.4190368169393527\n",
      "RMSE for validation data:  0.4223289343798135\n"
     ]
    }
   ],
   "source": [
    "#calculating RMSE for train data\n",
    "train_rmse_lr = np.sqrt(mean_absolute_error(train_y,train_pred_lr))\n",
    "\n",
    "#calculating RMSE for validation data\n",
    "val_rmse_lr = np.sqrt(mean_absolute_error(val_y,val_pred_lr))\n",
    "\n",
    "print(\"RMSE for training data: \",train_rmse_lr)\n",
    "print(\"RMSE for validation data: \",val_rmse_lr)"
   ]
  },
  {
   "cell_type": "code",
   "execution_count": 104,
   "metadata": {},
   "outputs": [
    {
     "name": "stdout",
     "output_type": "stream",
     "text": [
      "R2 score for training data:  0.6076098948151976\n",
      "R2 score validation data:  0.5934157326031945\n"
     ]
    }
   ],
   "source": [
    "#Calculate R2 score \n",
    "print(\"R2 score for training data: \",r2_score(train_y,train_pred_lr))\n",
    "print(\"R2 score validation data: \",r2_score(val_y,val_pred_lr))"
   ]
  },
  {
   "cell_type": "markdown",
   "metadata": {},
   "source": [
    "<h3>5.2 Decision Tree Model"
   ]
  },
  {
   "cell_type": "code",
   "execution_count": 105,
   "metadata": {},
   "outputs": [
    {
     "data": {
      "text/plain": [
       "DecisionTreeRegressor(ccp_alpha=0.0, criterion='mse', max_depth=None,\n",
       "                      max_features=None, max_leaf_nodes=None,\n",
       "                      min_impurity_decrease=0.0, min_impurity_split=None,\n",
       "                      min_samples_leaf=1, min_samples_split=2,\n",
       "                      min_weight_fraction_leaf=0.0, presort='deprecated',\n",
       "                      random_state=1, splitter='best')"
      ]
     },
     "execution_count": 105,
     "metadata": {},
     "output_type": "execute_result"
    }
   ],
   "source": [
    "from sklearn.tree import DecisionTreeRegressor\n",
    "\n",
    "model_dt = DecisionTreeRegressor(random_state=1)\n",
    "\n",
    "#fit model\n",
    "model_dt.fit(train_X,train_y)"
   ]
  },
  {
   "cell_type": "code",
   "execution_count": 106,
   "metadata": {},
   "outputs": [
    {
     "data": {
      "text/plain": [
       "array([1.45861506, 2.25129175, 2.25129175, ..., 2.48490667, 2.14006615,\n",
       "       1.84054971])"
      ]
     },
     "execution_count": 106,
     "metadata": {},
     "output_type": "execute_result"
    }
   ],
   "source": [
    "#Predicting the model on training data\n",
    "train_pred_dt = model_dt.predict(train_X)\n",
    "train_pred_dt"
   ]
  },
  {
   "cell_type": "code",
   "execution_count": 107,
   "metadata": {},
   "outputs": [
    {
     "data": {
      "text/html": [
       "<div>\n",
       "<style scoped>\n",
       "    .dataframe tbody tr th:only-of-type {\n",
       "        vertical-align: middle;\n",
       "    }\n",
       "\n",
       "    .dataframe tbody tr th {\n",
       "        vertical-align: top;\n",
       "    }\n",
       "\n",
       "    .dataframe thead th {\n",
       "        text-align: right;\n",
       "    }\n",
       "</style>\n",
       "<table border=\"1\" class=\"dataframe\">\n",
       "  <thead>\n",
       "    <tr style=\"text-align: right;\">\n",
       "      <th></th>\n",
       "      <th>0</th>\n",
       "    </tr>\n",
       "  </thead>\n",
       "  <tbody>\n",
       "    <tr>\n",
       "      <th>0</th>\n",
       "      <td>2.862201</td>\n",
       "    </tr>\n",
       "    <tr>\n",
       "      <th>1</th>\n",
       "      <td>1.791759</td>\n",
       "    </tr>\n",
       "    <tr>\n",
       "      <th>2</th>\n",
       "      <td>2.564949</td>\n",
       "    </tr>\n",
       "    <tr>\n",
       "      <th>3</th>\n",
       "      <td>2.197225</td>\n",
       "    </tr>\n",
       "    <tr>\n",
       "      <th>4</th>\n",
       "      <td>1.945910</td>\n",
       "    </tr>\n",
       "    <tr>\n",
       "      <th>...</th>\n",
       "      <td>...</td>\n",
       "    </tr>\n",
       "    <tr>\n",
       "      <th>2691</th>\n",
       "      <td>1.360977</td>\n",
       "    </tr>\n",
       "    <tr>\n",
       "      <th>2692</th>\n",
       "      <td>1.360977</td>\n",
       "    </tr>\n",
       "    <tr>\n",
       "      <th>2693</th>\n",
       "      <td>3.113515</td>\n",
       "    </tr>\n",
       "    <tr>\n",
       "      <th>2694</th>\n",
       "      <td>2.397895</td>\n",
       "    </tr>\n",
       "    <tr>\n",
       "      <th>2695</th>\n",
       "      <td>2.116256</td>\n",
       "    </tr>\n",
       "  </tbody>\n",
       "</table>\n",
       "<p>2696 rows × 1 columns</p>\n",
       "</div>"
      ],
      "text/plain": [
       "             0\n",
       "0     2.862201\n",
       "1     1.791759\n",
       "2     2.564949\n",
       "3     2.197225\n",
       "4     1.945910\n",
       "...        ...\n",
       "2691  1.360977\n",
       "2692  1.360977\n",
       "2693  3.113515\n",
       "2694  2.397895\n",
       "2695  2.116256\n",
       "\n",
       "[2696 rows x 1 columns]"
      ]
     },
     "execution_count": 107,
     "metadata": {},
     "output_type": "execute_result"
    }
   ],
   "source": [
    "#Predicting the model on validation data\n",
    "val_pred_dt = pd.DataFrame(model_dt.predict(val_X))\n",
    "val_pred_dt"
   ]
  },
  {
   "cell_type": "code",
   "execution_count": 108,
   "metadata": {},
   "outputs": [
    {
     "name": "stdout",
     "output_type": "stream",
     "text": [
      "0.24783605319456106\n"
     ]
    }
   ],
   "source": [
    "#calculate mean_absolute_error\n",
    "print(mean_absolute_error(val_y,val_pred_dt))"
   ]
  },
  {
   "cell_type": "code",
   "execution_count": 109,
   "metadata": {},
   "outputs": [
    {
     "name": "stdout",
     "output_type": "stream",
     "text": [
      "Validation Prediction:\n",
      " [2.86220098 1.79175949 2.56494927 2.19722462 1.9459101 ]\n",
      "Actual Fare Amount from Validation Data:\n",
      " 11724    2.442347\n",
      "13897    1.960095\n",
      "3224     2.292535\n",
      "6192     2.251292\n",
      "13939    1.504077\n",
      "Name: fare_amount, dtype: float32\n"
     ]
    }
   ],
   "source": [
    "#inspect your predictions and actual values from validation Data\n",
    "print('Validation Prediction:\\n',model_dt.predict(val_X.head()))\n",
    "print('Actual Fare Amount from Validation Data:\\n',val_y.head())"
   ]
  },
  {
   "cell_type": "code",
   "execution_count": 110,
   "metadata": {},
   "outputs": [
    {
     "name": "stdout",
     "output_type": "stream",
     "text": [
      "RMSE for training data:  0.013471645603465175\n",
      "RMSE for validation data:  0.49783135015239954\n"
     ]
    }
   ],
   "source": [
    "#calculating RMSE for train data\n",
    "train_rmse_dt = np.sqrt(mean_absolute_error(train_y,train_pred_dt))\n",
    "\n",
    "#calculating RMSE for validation data\n",
    "val_rmse_dt = np.sqrt(mean_absolute_error(val_y,val_pred_dt))\n",
    "\n",
    "print(\"RMSE for training data: \",train_rmse_dt)\n",
    "print(\"RMSE for validation data: \",val_rmse_dt)"
   ]
  },
  {
   "cell_type": "code",
   "execution_count": 111,
   "metadata": {},
   "outputs": [
    {
     "name": "stdout",
     "output_type": "stream",
     "text": [
      "R2 score for training data:  0.999625701392804\n",
      "R2 score validation data:  0.19937852318693228\n"
     ]
    }
   ],
   "source": [
    "#Calculate R2 score \n",
    "print(\"R2 score for training data: \",r2_score(train_y,train_pred_dt))\n",
    "print(\"R2 score validation data: \",r2_score(val_y,val_pred_dt))"
   ]
  },
  {
   "cell_type": "markdown",
   "metadata": {},
   "source": [
    "<h3>5.3 Random Forest Model"
   ]
  },
  {
   "cell_type": "code",
   "execution_count": 76,
   "metadata": {},
   "outputs": [
    {
     "data": {
      "text/plain": [
       "RandomForestRegressor(bootstrap=True, ccp_alpha=0.0, criterion='mse',\n",
       "                      max_depth=None, max_features='auto', max_leaf_nodes=None,\n",
       "                      max_samples=None, min_impurity_decrease=0.0,\n",
       "                      min_impurity_split=None, min_samples_leaf=1,\n",
       "                      min_samples_split=2, min_weight_fraction_leaf=0.0,\n",
       "                      n_estimators=100, n_jobs=None, oob_score=False,\n",
       "                      random_state=1, verbose=0, warm_start=False)"
      ]
     },
     "execution_count": 76,
     "metadata": {},
     "output_type": "execute_result"
    }
   ],
   "source": [
    "from sklearn.ensemble import RandomForestRegressor\n",
    "\n",
    "#define Model\n",
    "model_rf = RandomForestRegressor(random_state=1)\n",
    "\n",
    "#fir the model\n",
    "model_rf.fit(train_X,train_y)"
   ]
  },
  {
   "cell_type": "code",
   "execution_count": 77,
   "metadata": {},
   "outputs": [
    {
     "name": "stdout",
     "output_type": "stream",
     "text": [
      "Validation MAE :0.18188525783455678\n"
     ]
    }
   ],
   "source": [
    "#calculate mean_absolute_error \n",
    "rf_val_mae = mean_absolute_error(val_y,model_rf.predict(val_X))\n",
    "print(\"Validation MAE :{}\".format(rf_val_mae))"
   ]
  },
  {
   "cell_type": "code",
   "execution_count": 80,
   "metadata": {},
   "outputs": [
    {
     "name": "stdout",
     "output_type": "stream",
     "text": [
      "Validation Prediction:\n",
      " [2.71803212 1.86944794 2.34343011 2.09736757 1.83982986]\n",
      "Actual Fare Amount from Validation Data:\n",
      " 11724    2.442347\n",
      "13897    1.960095\n",
      "3224     2.292535\n",
      "6192     2.251292\n",
      "13939    1.504077\n",
      "Name: fare_amount, dtype: float32\n"
     ]
    }
   ],
   "source": [
    "#inspect your predictions and actual values from validation Data\n",
    "print('Validation Prediction:\\n',model_rf.predict(val_X.head()))\n",
    "print('Actual Fare Amount from Validation Data:\\n',val_y.head())"
   ]
  },
  {
   "cell_type": "code",
   "execution_count": 112,
   "metadata": {},
   "outputs": [
    {
     "name": "stdout",
     "output_type": "stream",
     "text": [
      "RMSE for training data:  0.013471645603465175\n",
      "RMSE for validation data:  0.49783135015239954\n"
     ]
    }
   ],
   "source": [
    "#calculating RMSE for train data\n",
    "train_rmse_rf = np.sqrt(mean_absolute_error(train_y,model_rf.predict(train_X)))\n",
    "\n",
    "#calculating RMSE for validation data\n",
    "val_rmse_rf = np.sqrt(mean_absolute_error(val_y,model_rf.predict(val_X)))\n",
    "\n",
    "print(\"RMSE for training data: \",train_rmse_dt)\n",
    "print(\"RMSE for validation data: \",val_rmse_dt)"
   ]
  },
  {
   "cell_type": "code",
   "execution_count": 113,
   "metadata": {},
   "outputs": [
    {
     "name": "stdout",
     "output_type": "stream",
     "text": [
      "R2 score for training data:  0.946250487367223\n",
      "R2 score validation data:  0.6000174191151674\n"
     ]
    }
   ],
   "source": [
    "#Calculate R2 score \n",
    "print(\"R2 score for training data: \",r2_score(train_y,model_rf.predict(train_X)))\n",
    "print(\"R2 score validation data: \",r2_score(val_y,model_rf.predict(val_X)))"
   ]
  },
  {
   "cell_type": "markdown",
   "metadata": {},
   "source": [
    "<h3>5.4 Gradient Boosting Regressor Model"
   ]
  },
  {
   "cell_type": "code",
   "execution_count": 114,
   "metadata": {},
   "outputs": [
    {
     "data": {
      "text/plain": [
       "GradientBoostingRegressor(alpha=0.9, ccp_alpha=0.0, criterion='friedman_mse',\n",
       "                          init=None, learning_rate=0.1, loss='ls', max_depth=3,\n",
       "                          max_features=None, max_leaf_nodes=None,\n",
       "                          min_impurity_decrease=0.0, min_impurity_split=None,\n",
       "                          min_samples_leaf=1, min_samples_split=2,\n",
       "                          min_weight_fraction_leaf=0.0, n_estimators=100,\n",
       "                          n_iter_no_change=None, presort='deprecated',\n",
       "                          random_state=1, subsample=1.0, tol=0.0001,\n",
       "                          validation_fraction=0.1, verbose=0, warm_start=False)"
      ]
     },
     "execution_count": 114,
     "metadata": {},
     "output_type": "execute_result"
    }
   ],
   "source": [
    "from sklearn.ensemble import GradientBoostingRegressor\n",
    "\n",
    "#define Model\n",
    "model_gb = GradientBoostingRegressor(random_state=1)\n",
    "\n",
    "#fir the model\n",
    "model_gb.fit(train_X,train_y)"
   ]
  },
  {
   "cell_type": "code",
   "execution_count": 115,
   "metadata": {},
   "outputs": [
    {
     "data": {
      "text/plain": [
       "array([1.69213753, 2.30176365, 2.28714483, ..., 2.30436758, 2.18067841,\n",
       "       1.79138189])"
      ]
     },
     "execution_count": 115,
     "metadata": {},
     "output_type": "execute_result"
    }
   ],
   "source": [
    "#Predicting the model on training data\n",
    "train_pred_gb = model_gb.predict(train_X)\n",
    "train_pred_gb"
   ]
  },
  {
   "cell_type": "code",
   "execution_count": 116,
   "metadata": {},
   "outputs": [
    {
     "data": {
      "text/html": [
       "<div>\n",
       "<style scoped>\n",
       "    .dataframe tbody tr th:only-of-type {\n",
       "        vertical-align: middle;\n",
       "    }\n",
       "\n",
       "    .dataframe tbody tr th {\n",
       "        vertical-align: top;\n",
       "    }\n",
       "\n",
       "    .dataframe thead th {\n",
       "        text-align: right;\n",
       "    }\n",
       "</style>\n",
       "<table border=\"1\" class=\"dataframe\">\n",
       "  <thead>\n",
       "    <tr style=\"text-align: right;\">\n",
       "      <th></th>\n",
       "      <th>0</th>\n",
       "    </tr>\n",
       "  </thead>\n",
       "  <tbody>\n",
       "    <tr>\n",
       "      <th>0</th>\n",
       "      <td>1.692138</td>\n",
       "    </tr>\n",
       "    <tr>\n",
       "      <th>1</th>\n",
       "      <td>2.301764</td>\n",
       "    </tr>\n",
       "    <tr>\n",
       "      <th>2</th>\n",
       "      <td>2.287145</td>\n",
       "    </tr>\n",
       "    <tr>\n",
       "      <th>3</th>\n",
       "      <td>1.828683</td>\n",
       "    </tr>\n",
       "    <tr>\n",
       "      <th>4</th>\n",
       "      <td>2.998651</td>\n",
       "    </tr>\n",
       "    <tr>\n",
       "      <th>...</th>\n",
       "      <td>...</td>\n",
       "    </tr>\n",
       "    <tr>\n",
       "      <th>10776</th>\n",
       "      <td>2.044044</td>\n",
       "    </tr>\n",
       "    <tr>\n",
       "      <th>10777</th>\n",
       "      <td>2.382550</td>\n",
       "    </tr>\n",
       "    <tr>\n",
       "      <th>10778</th>\n",
       "      <td>2.304368</td>\n",
       "    </tr>\n",
       "    <tr>\n",
       "      <th>10779</th>\n",
       "      <td>2.180678</td>\n",
       "    </tr>\n",
       "    <tr>\n",
       "      <th>10780</th>\n",
       "      <td>1.791382</td>\n",
       "    </tr>\n",
       "  </tbody>\n",
       "</table>\n",
       "<p>10781 rows × 1 columns</p>\n",
       "</div>"
      ],
      "text/plain": [
       "              0\n",
       "0      1.692138\n",
       "1      2.301764\n",
       "2      2.287145\n",
       "3      1.828683\n",
       "4      2.998651\n",
       "...         ...\n",
       "10776  2.044044\n",
       "10777  2.382550\n",
       "10778  2.304368\n",
       "10779  2.180678\n",
       "10780  1.791382\n",
       "\n",
       "[10781 rows x 1 columns]"
      ]
     },
     "execution_count": 116,
     "metadata": {},
     "output_type": "execute_result"
    }
   ],
   "source": [
    "#Predicting the model on validation data\n",
    "val_pred_gb = pd.DataFrame(model_gb.predict(train_X))\n",
    "val_pred_gb"
   ]
  },
  {
   "cell_type": "code",
   "execution_count": 121,
   "metadata": {},
   "outputs": [],
   "source": [
    "#calculate mean_absolute_error\n",
    "#print(mean_absolute_error(val_y,val_pred_gb))"
   ]
  },
  {
   "cell_type": "code",
   "execution_count": 118,
   "metadata": {},
   "outputs": [
    {
     "name": "stdout",
     "output_type": "stream",
     "text": [
      "Validation Prediction:\n",
      " [2.5984819  1.86742078 2.28544005 2.16576168 1.77084937]\n",
      "Actual Fare Amount from Validation Data:\n",
      " 11724    2.442347\n",
      "13897    1.960095\n",
      "3224     2.292535\n",
      "6192     2.251292\n",
      "13939    1.504077\n",
      "Name: fare_amount, dtype: float32\n"
     ]
    }
   ],
   "source": [
    "#inspect your predictions and actual values from validation Data\n",
    "print('Validation Prediction:\\n',model_gb.predict(val_X.head()))\n",
    "print('Actual Fare Amount from Validation Data:\\n',val_y.head())"
   ]
  },
  {
   "cell_type": "code",
   "execution_count": 122,
   "metadata": {},
   "outputs": [
    {
     "name": "stdout",
     "output_type": "stream",
     "text": [
      "RMSE for training data:  0.40076185749576404\n"
     ]
    }
   ],
   "source": [
    "#calculating RMSE for train data\n",
    "train_rmse_gb = np.sqrt(mean_absolute_error(train_y,train_pred_gb))\n",
    "\n",
    "#calculating RMSE for validation data\n",
    "#val_rmse_gb = np.sqrt(mean_absolute_error(val_y,val_pred_gb))\n",
    "\n",
    "print(\"RMSE for training data: \",train_rmse_gb)\n",
    "#print(\"RMSE for validation data: \",val_rmse_gb)"
   ]
  },
  {
   "cell_type": "code",
   "execution_count": 123,
   "metadata": {},
   "outputs": [
    {
     "name": "stdout",
     "output_type": "stream",
     "text": [
      "R2 score for training data:  0.6841455998918204\n"
     ]
    }
   ],
   "source": [
    "#Calculate R2 score \n",
    "print(\"R2 score for training data: \",r2_score(train_y,train_pred_gb))\n",
    "#print(\"R2 score validation data: \",r2_score(val_y,val_pred_gb))"
   ]
  },
  {
   "cell_type": "markdown",
   "metadata": {},
   "source": [
    "<h3>5.5 K-Nearest Neighbour"
   ]
  },
  {
   "cell_type": "code",
   "execution_count": 125,
   "metadata": {},
   "outputs": [
    {
     "data": {
      "text/plain": [
       "KNeighborsRegressor(algorithm='auto', leaf_size=30, metric='minkowski',\n",
       "                    metric_params=None, n_jobs=None, n_neighbors=10, p=2,\n",
       "                    weights='uniform')"
      ]
     },
     "execution_count": 125,
     "metadata": {},
     "output_type": "execute_result"
    }
   ],
   "source": [
    "from sklearn.neighbors import KNeighborsRegressor\n",
    "\n",
    "model_knn = KNeighborsRegressor(n_neighbors=10)\n",
    "#fit the model\n",
    "model_knn.fit(train_X,train_y)"
   ]
  },
  {
   "cell_type": "code",
   "execution_count": 126,
   "metadata": {},
   "outputs": [
    {
     "data": {
      "text/plain": [
       "array([1.9040651, 2.1506608, 2.245953 , ..., 2.1409547, 2.2006593,\n",
       "       2.076314 ], dtype=float32)"
      ]
     },
     "execution_count": 126,
     "metadata": {},
     "output_type": "execute_result"
    }
   ],
   "source": [
    "#Predicting the model on training data\n",
    "train_pred_knn = model_knn.predict(train_X)\n",
    "train_pred_knn"
   ]
  },
  {
   "cell_type": "code",
   "execution_count": 127,
   "metadata": {},
   "outputs": [
    {
     "data": {
      "text/plain": [
       "array([2.2462428, 2.1591382, 2.1858685, ..., 2.3698459, 2.0658596,\n",
       "       2.2009563], dtype=float32)"
      ]
     },
     "execution_count": 127,
     "metadata": {},
     "output_type": "execute_result"
    }
   ],
   "source": [
    "#Predicting the model on training data\n",
    "val_pred_knn = model_knn.predict(val_X)\n",
    "val_pred_knn"
   ]
  },
  {
   "cell_type": "code",
   "execution_count": 128,
   "metadata": {},
   "outputs": [
    {
     "name": "stdout",
     "output_type": "stream",
     "text": [
      "0.2550094\n"
     ]
    }
   ],
   "source": [
    "#calculate mean_absolute_error\n",
    "print(mean_absolute_error(val_y,val_pred_knn))"
   ]
  },
  {
   "cell_type": "code",
   "execution_count": 129,
   "metadata": {},
   "outputs": [
    {
     "name": "stdout",
     "output_type": "stream",
     "text": [
      "Validation Prediction:\n",
      " [2.2462428 2.1591382 2.1858685 2.138555  2.0709894]\n",
      "Actual Fare Amount from Validation Data:\n",
      " 11724    2.442347\n",
      "13897    1.960095\n",
      "3224     2.292535\n",
      "6192     2.251292\n",
      "13939    1.504077\n",
      "Name: fare_amount, dtype: float32\n"
     ]
    }
   ],
   "source": [
    "#inspect your predictions and actual values from validation Data\n",
    "print('Validation Prediction:\\n',model_knn.predict(val_X.head()))\n",
    "print('Actual Fare Amount from Validation Data:\\n',val_y.head())"
   ]
  },
  {
   "cell_type": "code",
   "execution_count": 130,
   "metadata": {},
   "outputs": [
    {
     "name": "stdout",
     "output_type": "stream",
     "text": [
      "RMSE for training data:  0.47797433\n",
      "RMSE for validation data:  0.50498456\n"
     ]
    }
   ],
   "source": [
    "#calculating RMSE for train data\n",
    "train_rmse_knn = np.sqrt(mean_absolute_error(train_y,train_pred_knn))\n",
    "\n",
    "#calculating RMSE for validation data\n",
    "val_rmse_knn = np.sqrt(mean_absolute_error(val_y,val_pred_knn))\n",
    "\n",
    "print(\"RMSE for training data: \",train_rmse_knn)\n",
    "print(\"RMSE for validation data: \",val_rmse_knn)"
   ]
  },
  {
   "cell_type": "code",
   "execution_count": 131,
   "metadata": {},
   "outputs": [
    {
     "name": "stdout",
     "output_type": "stream",
     "text": [
      "R2 score for training data:  0.4574095339783044\n",
      "R2 score validation data:  0.3343048776026557\n"
     ]
    }
   ],
   "source": [
    "#Calculate R2 score \n",
    "print(\"R2 score for training data: \",r2_score(train_y,train_pred_knn))\n",
    "print(\"R2 score validation data: \",r2_score(val_y,val_pred_knn))"
   ]
  },
  {
   "cell_type": "code",
   "execution_count": null,
   "metadata": {},
   "outputs": [],
   "source": []
  }
 ],
 "metadata": {
  "kernelspec": {
   "display_name": "Python 3",
   "language": "python",
   "name": "python3"
  },
  "language_info": {
   "codemirror_mode": {
    "name": "ipython",
    "version": 3
   },
   "file_extension": ".py",
   "mimetype": "text/x-python",
   "name": "python",
   "nbconvert_exporter": "python",
   "pygments_lexer": "ipython3",
   "version": "3.7.6"
  }
 },
 "nbformat": 4,
 "nbformat_minor": 4
}
